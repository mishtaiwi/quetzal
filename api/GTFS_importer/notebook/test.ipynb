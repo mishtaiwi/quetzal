{
 "cells": [
  {
   "cell_type": "code",
   "execution_count": 84,
   "id": "45cc632a",
   "metadata": {},
   "outputs": [],
   "source": [
    "import geopandas as gpd\n",
    "import pandas as pd\n",
    "import sys\n",
    "import os\n",
    "import gtfs_kit as gtk\n",
    "import numpy as np\n",
    "sys.path.insert(0, r'../../../')\n",
    "from quetzal.io.gtfs_reader import importer\n",
    "from quetzal.io.gtfs_reader.frequencies import hhmmss_to_seconds_since_midnight \n",
    "from quetzal.model import stepmodel\n",
    "\n",
    "\n",
    "import warnings\n",
    "warnings.filterwarnings(\"ignore\")"
   ]
  },
  {
   "cell_type": "code",
   "execution_count": null,
   "id": "dc8a35e3",
   "metadata": {},
   "outputs": [],
   "source": []
  },
  {
   "cell_type": "code",
   "execution_count": 85,
   "id": "6f0f96a2",
   "metadata": {},
   "outputs": [
    {
     "data": {
      "text/plain": [
       "1"
      ]
     },
     "execution_count": 85,
     "metadata": {},
     "output_type": "execute_result"
    }
   ],
   "source": [
    "time_range = ['6:00:00', '8:59:00'] # PPAM\n",
    "#dates = ['20191015'] # the dates must be within the feed start and end dates\n",
    "#https://pandas.pydata.org/docs/reference/api/pandas.DatetimeIndex.weekday.html\n",
    "day = 'tuesday'\n",
    "day_dict = {\n",
    "    'monday': 0,\n",
    "    'tuesday': 1,\n",
    "    'wednesday': 2,\n",
    "    'thursday': 3,\n",
    "    'friday': 4,\n",
    "    'saturday': 5,\n",
    "    'sunday': 6\n",
    "}\n",
    "selected_day = day_dict[day]\n",
    "selected_day"
   ]
  },
  {
   "cell_type": "code",
   "execution_count": 86,
   "id": "d24a503f",
   "metadata": {
    "scrolled": true
   },
   "outputs": [
    {
     "data": {
      "text/plain": [
       "['gtfs/cmm/stl.zip']"
      ]
     },
     "execution_count": 86,
     "metadata": {},
     "output_type": "execute_result"
    }
   ],
   "source": [
    "# GTFS are read recursively between each ancestor\n",
    "files=[]\n",
    "gtfs_folder = 'gtfs/cmm/'\n",
    "if os.path.exists(gtfs_folder):\n",
    "    for filename in filter(lambda x: x[-4:] == '.zip', os.listdir(gtfs_folder)):\n",
    "        files.append(gtfs_folder+filename)\n",
    "\n",
    "#files = files[0:1]\n",
    "files=[files[2]]\n",
    "files"
   ]
  },
  {
   "cell_type": "code",
   "execution_count": 4,
   "id": "b89b0fd9",
   "metadata": {},
   "outputs": [
    {
     "data": {
      "text/plain": [
       "'\\nfiles = [\\n    \"https://storage.googleapis.com/storage/v1/b/mdb-latest/o/ca-unknown-via-rail-canada-gtfs-735.zip?alt=media\",\\n    \"https://storage.googleapis.com/storage/v1/b/mdb-latest/o/ca-quebec-exo-sorel-varennes-gtfs-741.zip?alt=media\",\\n    \"https://storage.googleapis.com/storage/v1/b/mdb-latest/o/ca-quebec-exo-sud-ouest-gtfs-742.zip?alt=media\",\\n    \"https://storage.googleapis.com/storage/v1/b/mdb-latest/o/ca-quebec-exo-la-presquile-gtfs-743.zip?alt=media\"\\n]\\nfiles = [\"https://storage.googleapis.com/storage/v1/b/mdb-latest/o/ca-british-columbia-translink-vancouver-gtfs-1222.zip?alt=media\"]\\n'"
      ]
     },
     "execution_count": 4,
     "metadata": {},
     "output_type": "execute_result"
    }
   ],
   "source": [
    "'''\n",
    "files = [\n",
    "    \"https://storage.googleapis.com/storage/v1/b/mdb-latest/o/ca-unknown-via-rail-canada-gtfs-735.zip?alt=media\",\n",
    "    \"https://storage.googleapis.com/storage/v1/b/mdb-latest/o/ca-quebec-exo-sorel-varennes-gtfs-741.zip?alt=media\",\n",
    "    \"https://storage.googleapis.com/storage/v1/b/mdb-latest/o/ca-quebec-exo-sud-ouest-gtfs-742.zip?alt=media\",\n",
    "    \"https://storage.googleapis.com/storage/v1/b/mdb-latest/o/ca-quebec-exo-la-presquile-gtfs-743.zip?alt=media\"\n",
    "]\n",
    "files = [\"https://storage.googleapis.com/storage/v1/b/mdb-latest/o/ca-british-columbia-translink-vancouver-gtfs-1222.zip?alt=media\"]\n",
    "'''"
   ]
  },
  {
   "cell_type": "markdown",
   "id": "5fb5f6f3",
   "metadata": {},
   "source": [
    "# import"
   ]
  },
  {
   "cell_type": "code",
   "execution_count": 87,
   "id": "00b44232",
   "metadata": {},
   "outputs": [
    {
     "name": "stdout",
     "output_type": "stream",
     "text": [
      "Importing gtfs/cmm/stl.zip.zip\n"
     ]
    }
   ],
   "source": [
    "feeds=[]\n",
    "for file in files:\n",
    "    print('Importing {f}.zip'.format(f=file))\n",
    "    feeds.append(importer.GtfsImporter(path=file, dist_units='m'))\n"
   ]
  },
  {
   "cell_type": "code",
   "execution_count": 88,
   "id": "a3cfe0a6",
   "metadata": {},
   "outputs": [
    {
     "name": "stdout",
     "output_type": "stream",
     "text": [
      "gtfs/cmm/stl.zip\n",
      "parent_station missing in stops. set to NaN in gtfs/cmm/stl.zip\n"
     ]
    }
   ],
   "source": [
    "for i in range(len(feeds)):\n",
    "    print(files[i])\n",
    "    if 'agency_id' not in feeds[i].routes:\n",
    "        print(f'add agency_id to routes in {files[i]}')\n",
    "        feeds[i].routes['agency_id'] = feeds[i].agency['agency_id'].values[0]\n",
    "    \n",
    "    if 'pickup_type' not in feeds[i].stop_times:\n",
    "        print(f'picjup_type missing in stop_times. set to 0 in {files[i]}')\n",
    "        feeds[i].stop_times['pickup_type'] = 0\n",
    "    \n",
    "    if 'drop_off_type' not in feeds[i].stop_times:\n",
    "        print(f'drop_odd_type missing in stop_times. set to 0 in {files[i]}')\n",
    "        feeds[i].stop_times['drop_off_type'] = 0\n",
    "        \n",
    "    if 'parent_station' not in feeds[i].stops:\n",
    "        print(f'parent_station missing in stops. set to NaN in {files[i]}')\n",
    "        feeds[i].stops['parent_station'] = np.nan\n",
    "        \n",
    "    feeds[i].stop_times['pickup_type'].fillna(0, inplace=True)\n",
    "    feeds[i].stop_times['drop_off_type'].fillna(0, inplace=True)\n",
    "    feeds[i].stop_times['arrival_time'] = feeds[i].stop_times['departure_time']"
   ]
  },
  {
   "cell_type": "code",
   "execution_count": null,
   "id": "ab7a0447",
   "metadata": {},
   "outputs": [],
   "source": []
  },
  {
   "cell_type": "code",
   "execution_count": null,
   "id": "e0dc56e3",
   "metadata": {},
   "outputs": [],
   "source": []
  },
  {
   "cell_type": "markdown",
   "id": "fbb12352",
   "metadata": {},
   "source": [
    "# filtres"
   ]
  },
  {
   "cell_type": "code",
   "execution_count": 89,
   "id": "ebc3b4a7",
   "metadata": {},
   "outputs": [],
   "source": [
    "\n",
    "dates =[]\n",
    "for feed in feeds:\n",
    "    min_date = feed.calendar['start_date'].unique().min()\n",
    "    max_date = feed.calendar['end_date'].unique().max()\n",
    "    # get date range \n",
    "    s = pd.date_range(min_date, max_date, freq='D').to_series()\n",
    "    # get dayofweek selected and take first one\n",
    "    s = s[s.dt.dayofweek==selected_day][0]\n",
    "    # format  ex: ['20231011'] and append\n",
    "    dates.append([f'{s.year}{str(s.month).zfill(2)}{str(s.day).zfill(2)}'])\n"
   ]
  },
  {
   "cell_type": "code",
   "execution_count": null,
   "id": "7aec8be7",
   "metadata": {},
   "outputs": [],
   "source": []
  },
  {
   "cell_type": "code",
   "execution_count": 90,
   "id": "bb4a6916",
   "metadata": {},
   "outputs": [],
   "source": [
    "feeds_t = []\n",
    "\n",
    "for i, feed in enumerate(feeds):\n",
    "    feed_t = feed.restrict(dates=dates[i], time_range=time_range)\n",
    "    if len(feed_t.trips) > 0:\n",
    "        feeds_t.append(feed_t)"
   ]
  },
  {
   "cell_type": "code",
   "execution_count": null,
   "id": "002569cf",
   "metadata": {},
   "outputs": [],
   "source": []
  },
  {
   "cell_type": "code",
   "execution_count": null,
   "id": "d49192eb",
   "metadata": {},
   "outputs": [],
   "source": [
    "\n",
    "            \n"
   ]
  },
  {
   "cell_type": "code",
   "execution_count": null,
   "id": "540d8686",
   "metadata": {},
   "outputs": [],
   "source": []
  },
  {
   "cell_type": "code",
   "execution_count": 91,
   "id": "c8029361",
   "metadata": {},
   "outputs": [
    {
     "name": "stdout",
     "output_type": "stream",
     "text": [
      "add shape_dist_traveled to shapes\n"
     ]
    }
   ],
   "source": [
    "print('add shape_dist_traveled to shapes')\n",
    "for feed in feeds_t:\n",
    "    if 'shape_dist_traveled' not in feed.shapes.columns:\n",
    "        feed.append_dist_to_shapes()"
   ]
  },
  {
   "cell_type": "code",
   "execution_count": 92,
   "id": "ca3b5369",
   "metadata": {},
   "outputs": [],
   "source": [
    "for feed in feeds_t:\n",
    "    if 'shape_dist_traveled' not in feed.stop_times.columns:\n",
    "        feed.append_dist_to_stop_times_fast()\n",
    "    else:\n",
    "        nan_sequence=feed.stop_times[feed.stop_times['shape_dist_traveled'].isnull()]['stop_sequence'].unique()\n",
    "        if all(seq==1 for seq in nan_sequence):\n",
    "            feed.stop_times['shape_dist_traveled'] = feed.stop_times['shape_dist_traveled'].fillna(0)\n",
    "        else:\n",
    "            feed.append_dist_to_stop_times_fast()\n",
    "for feed in feeds_t:            \n",
    "    if feed.stop_times['shape_dist_traveled'].max() < 100:\n",
    "        print(f'convert to meters')\n",
    "        feed.dist_units = 'km'\n",
    "        feed = gtk.convert_dist(feed, new_dist_units='m')\n"
   ]
  },
  {
   "cell_type": "code",
   "execution_count": null,
   "id": "faf29e0a",
   "metadata": {},
   "outputs": [],
   "source": []
  },
  {
   "cell_type": "code",
   "execution_count": 93,
   "id": "0c681f1f",
   "metadata": {
    "scrolled": true
   },
   "outputs": [
    {
     "name": "stdout",
     "output_type": "stream",
     "text": [
      "0\n",
      "CPU times: user 19.7 s, sys: 14.5 ms, total: 19.7 s\n",
      "Wall time: 19.7 s\n"
     ]
    }
   ],
   "source": [
    "%%time\n",
    "feeds_frequencies = []\n",
    "\n",
    "for i in range(len(feeds_t)):\n",
    "    print(i)\n",
    "    feed_s = feeds_t[i].copy()\n",
    "    feed_s.group_services()\n",
    "\n",
    "    feed_s.build_stop_clusters(distance_threshold=50)\n",
    "    feed_s.build_patterns(on='cluster_id')\n",
    "\n",
    "    feed_frequencies = feed_s.convert_to_frequencies(time_range=time_range)\n",
    "    shapes = feed_frequencies.shapes is not None\n",
    "    feed_frequencies.build_links_and_nodes(log=False, \n",
    "                                           shape_dist_traveled=True, \n",
    "                                           from_shape=shapes, \n",
    "                                           stick_nodes_on_links=shapes,\n",
    "                                           num_cores=1,\n",
    "                                           keep_origin_columns=['departure_time','pickup_type'],\n",
    "                                           keep_destination_columns=['arrival_time','drop_off_type'])\n",
    "    feeds_frequencies.append(feed_frequencies)"
   ]
  },
  {
   "cell_type": "code",
   "execution_count": 94,
   "id": "5863bb35",
   "metadata": {},
   "outputs": [
    {
     "name": "stdout",
     "output_type": "stream",
     "text": [
      "0\n",
      "CPU times: user 1.77 s, sys: 87.7 ms, total: 1.85 s\n",
      "Wall time: 7.33 s\n"
     ]
    }
   ],
   "source": [
    "%%time\n",
    "\n",
    "for i in range(len(feeds_t)):\n",
    "    print(i)\n",
    "    feed_s = feeds_t[i].copy()\n",
    "    feed_s.group_services()\n",
    "\n",
    "    feed_s.build_stop_clusters(distance_threshold=50)\n",
    "    feed_s.build_patterns(on='cluster_id')\n",
    "\n",
    "    feed_frequencies = feed_s.convert_to_frequencies(time_range=time_range)\n",
    "    shapes = feed_frequencies.shapes is not None\n",
    "    feed_frequencies.build_links_and_nodes(log=False, \n",
    "                                           shape_dist_traveled=True, \n",
    "                                           from_shape=shapes, \n",
    "                                           stick_nodes_on_links=shapes,\n",
    "                                           num_cores=4,\n",
    "                                           keep_origin_columns=['departure_time','pickup_type'],\n",
    "                                           keep_destination_columns=['arrival_time','drop_off_type'])\n",
    "    feeds_frequencies.append(feed_frequencies)"
   ]
  },
  {
   "cell_type": "code",
   "execution_count": 95,
   "id": "d5a5f5f0",
   "metadata": {},
   "outputs": [],
   "source": [
    "test1 = feeds_frequencies[0].links.copy().set_index('trip_id').sort_index()[['geometry']]\n",
    "test2 = feeds_frequencies[1].links.copy().set_index('trip_id').sort_index()[['geometry']]\n",
    "test1 = test1.reset_index()\n",
    "test1.index.name='index'\n",
    "test2 = test2.reset_index()\n",
    "test2.index.name='index'"
   ]
  },
  {
   "cell_type": "code",
   "execution_count": 96,
   "id": "8b04fc55",
   "metadata": {},
   "outputs": [],
   "source": [
    "test1['val']=1\n",
    "test2['val']=2"
   ]
  },
  {
   "cell_type": "code",
   "execution_count": 97,
   "id": "c2806d49",
   "metadata": {
    "scrolled": false
   },
   "outputs": [
    {
     "data": {
      "text/plain": [
       "<Axes: >"
      ]
     },
     "execution_count": 97,
     "metadata": {},
     "output_type": "execute_result"
    },
    {
     "data": {
      "image/png": "[encoded data removed]",
      "text/plain": [
       "<Figure size 640x480 with 1 Axes>"
      ]
     },
     "metadata": {},
     "output_type": "display_data"
    }
   ],
   "source": [
    "test1.plot()"
   ]
  },
  {
   "cell_type": "code",
   "execution_count": 55,
   "id": "d326b87a",
   "metadata": {},
   "outputs": [],
   "source": [
    "test1.to_crs(4326).to_file('1.geojson',driver='GeoJSON')\n",
    "test2.to_crs(4326).to_file('2.geojson',driver='GeoJSON')"
   ]
  },
  {
   "cell_type": "code",
   "execution_count": 57,
   "id": "2023ff1b",
   "metadata": {},
   "outputs": [
    {
     "data": {
      "text/html": [
       "<div>\n",
       "<style scoped>\n",
       "    .dataframe tbody tr th:only-of-type {\n",
       "        vertical-align: middle;\n",
       "    }\n",
       "\n",
       "    .dataframe tbody tr th {\n",
       "        vertical-align: top;\n",
       "    }\n",
       "\n",
       "    .dataframe thead th {\n",
       "        text-align: right;\n",
       "    }\n",
       "</style>\n",
       "<table border=\"1\" class=\"dataframe\">\n",
       "  <thead>\n",
       "    <tr style=\"text-align: right;\">\n",
       "      <th></th>\n",
       "      <th>trip_id</th>\n",
       "      <th>geometry</th>\n",
       "      <th>val</th>\n",
       "    </tr>\n",
       "    <tr>\n",
       "      <th>index</th>\n",
       "      <th></th>\n",
       "      <th></th>\n",
       "      <th></th>\n",
       "    </tr>\n",
       "  </thead>\n",
       "  <tbody>\n",
       "    <tr>\n",
       "      <th>0</th>\n",
       "      <td>JUIN1912E_0</td>\n",
       "      <td>LINESTRING (602837.612 5045990.303, 602742.043...</td>\n",
       "      <td>1</td>\n",
       "    </tr>\n",
       "    <tr>\n",
       "      <th>1</th>\n",
       "      <td>JUIN1912E_0</td>\n",
       "      <td>LINESTRING (603082.441 5046055.560, 603101.598...</td>\n",
       "      <td>1</td>\n",
       "    </tr>\n",
       "    <tr>\n",
       "      <th>2</th>\n",
       "      <td>JUIN1912E_0</td>\n",
       "      <td>LINESTRING (603101.598 5046029.983, 603184.747...</td>\n",
       "      <td>1</td>\n",
       "    </tr>\n",
       "    <tr>\n",
       "      <th>3</th>\n",
       "      <td>JUIN1912O_0</td>\n",
       "      <td>LINESTRING (603642.132 5046576.100, 603643.759...</td>\n",
       "      <td>1</td>\n",
       "    </tr>\n",
       "    <tr>\n",
       "      <th>4</th>\n",
       "      <td>JUIN1912O_0</td>\n",
       "      <td>LINESTRING (603482.623 5046253.107, 603462.160...</td>\n",
       "      <td>1</td>\n",
       "    </tr>\n",
       "    <tr>\n",
       "      <th>...</th>\n",
       "      <td>...</td>\n",
       "      <td>...</td>\n",
       "      <td>...</td>\n",
       "    </tr>\n",
       "    <tr>\n",
       "      <th>4792</th>\n",
       "      <td>JUIN19942O_0</td>\n",
       "      <td>LINESTRING (607305.974 5055316.730, 607180.345...</td>\n",
       "      <td>1</td>\n",
       "    </tr>\n",
       "    <tr>\n",
       "      <th>4793</th>\n",
       "      <td>JUIN19942O_0</td>\n",
       "      <td>LINESTRING (610827.039 5058507.902, 610822.522...</td>\n",
       "      <td>1</td>\n",
       "    </tr>\n",
       "    <tr>\n",
       "      <th>4794</th>\n",
       "      <td>JUIN19942O_0</td>\n",
       "      <td>LINESTRING (609742.429 5057108.324, 609697.964...</td>\n",
       "      <td>1</td>\n",
       "    </tr>\n",
       "    <tr>\n",
       "      <th>4795</th>\n",
       "      <td>JUIN19942O_0</td>\n",
       "      <td>LINESTRING (598706.466 5048565.721, 599514.565...</td>\n",
       "      <td>1</td>\n",
       "    </tr>\n",
       "    <tr>\n",
       "      <th>4796</th>\n",
       "      <td>JUIN19942O_0</td>\n",
       "      <td>LINESTRING (610452.713 5057617.627, 610370.759...</td>\n",
       "      <td>1</td>\n",
       "    </tr>\n",
       "  </tbody>\n",
       "</table>\n",
       "<p>4797 rows × 3 columns</p>\n",
       "</div>"
      ],
      "text/plain": [
       "            trip_id                                           geometry  val\n",
       "index                                                                      \n",
       "0       JUIN1912E_0  LINESTRING (602837.612 5045990.303, 602742.043...    1\n",
       "1       JUIN1912E_0  LINESTRING (603082.441 5046055.560, 603101.598...    1\n",
       "2       JUIN1912E_0  LINESTRING (603101.598 5046029.983, 603184.747...    1\n",
       "3       JUIN1912O_0  LINESTRING (603642.132 5046576.100, 603643.759...    1\n",
       "4       JUIN1912O_0  LINESTRING (603482.623 5046253.107, 603462.160...    1\n",
       "...             ...                                                ...  ...\n",
       "4792   JUIN19942O_0  LINESTRING (607305.974 5055316.730, 607180.345...    1\n",
       "4793   JUIN19942O_0  LINESTRING (610827.039 5058507.902, 610822.522...    1\n",
       "4794   JUIN19942O_0  LINESTRING (609742.429 5057108.324, 609697.964...    1\n",
       "4795   JUIN19942O_0  LINESTRING (598706.466 5048565.721, 599514.565...    1\n",
       "4796   JUIN19942O_0  LINESTRING (610452.713 5057617.627, 610370.759...    1\n",
       "\n",
       "[4797 rows x 3 columns]"
      ]
     },
     "execution_count": 57,
     "metadata": {},
     "output_type": "execute_result"
    }
   ],
   "source": [
    "test1"
   ]
  },
  {
   "cell_type": "code",
   "execution_count": null,
   "id": "27e6587f",
   "metadata": {},
   "outputs": [],
   "source": []
  },
  {
   "cell_type": "code",
   "execution_count": null,
   "id": "e010416c",
   "metadata": {},
   "outputs": [],
   "source": []
  },
  {
   "cell_type": "code",
   "execution_count": null,
   "id": "8e6058ac",
   "metadata": {},
   "outputs": [],
   "source": []
  },
  {
   "cell_type": "code",
   "execution_count": 98,
   "id": "2e761bad",
   "metadata": {},
   "outputs": [],
   "source": [
    "mapping = {0:'tram', 1:'subway', 2:'rail', 3:'bus',4:'ferry',5:'cable_car',6:'gondola',7:'funicular', 700:'bus', 1501:'taxi'}\n",
    "retire = ['taxi']\n",
    "for feed_frequencies in feeds_frequencies:\n",
    "    feed_frequencies.links['route_type'] = feed_frequencies.links['route_type'].apply(\n",
    "        lambda t: mapping.get(t, np.nan)\n",
    "    )\n",
    "    \n",
    "    assert not any(feed_frequencies.links['route_type'].isna())\n",
    "    feed_frequencies.links = feed_frequencies.links[~feed_frequencies.links['route_type'].isin(retire)]\n",
    "\n",
    "for feed_frequencies in feeds_frequencies:\n",
    "    feed_frequencies.links.loc[feed_frequencies.links['time'] == 0,'time'] = 1.0"
   ]
  },
  {
   "cell_type": "markdown",
   "id": "1feafd07",
   "metadata": {},
   "source": [
    "# create Model"
   ]
  },
  {
   "cell_type": "code",
   "execution_count": 99,
   "id": "c01f7e55",
   "metadata": {},
   "outputs": [],
   "source": [
    "columns=['trip_id','route_id','agency_id','direction_id','a','b', 'shape_dist_traveled',\n",
    "                                    'link_sequence','time','headway','pickup_type', 'drop_off_type',\n",
    "                                    'route_short_name','route_type','route_color','geometry']"
   ]
  },
  {
   "cell_type": "code",
   "execution_count": null,
   "id": "3595a005",
   "metadata": {},
   "outputs": [],
   "source": []
  },
  {
   "cell_type": "code",
   "execution_count": 100,
   "id": "8b8f8dd7",
   "metadata": {},
   "outputs": [],
   "source": [
    "sm = stepmodel.StepModel(epsg=4326, coordinates_unit='meter')\n",
    "\n",
    "links_concat = []; nodes_concat = []\n",
    "for feed_frequencies in feeds_frequencies:\n",
    "    links_concat.append(feed_frequencies.links)\n",
    "    nodes_concat.append(feed_frequencies.nodes)\n",
    "if len(links_concat)==0:\n",
    "    print('gg')\n",
    "    \n",
    "sm.links = pd.concat(links_concat)\n",
    "for col in columns:\n",
    "    if col not in sm.links.columns:\n",
    "        sm.links[col] = np.nan\n",
    "        \n",
    "sm.links = sm.links[columns]\n",
    "sm.nodes = pd.concat(nodes_concat)[['stop_id','stop_name','stop_code','geometry']]\n",
    "\n",
    "sm.nodes = sm.nodes.reset_index(drop=True).sort_index()\n",
    "sm.links = sm.links.reset_index(drop=True).sort_index()\n",
    "\n",
    "\n",
    "sm.nodes.loc[sm.nodes['stop_code'].isna(),'stop_code'] = sm.nodes.loc[sm.nodes['stop_code'].isna(),'stop_id'] \n",
    "sm.nodes.drop_duplicates(subset=['stop_id'], inplace=True)\n",
    "\n",
    "sm.links['trip_id'] = sm.links['agency_id'] +'_' +sm.links['trip_id']\n",
    "sm.links['route_id'] = sm.links['agency_id'] +'_' +sm.links['route_id']\n",
    "\n",
    "sm.links = sm.links.sort_values(['route_type','trip_id']).reset_index(drop=True)\n",
    "\n",
    "dnodes = ('node_' +sm.nodes.reset_index().set_index('stop_id')['index'].astype(str)).to_dict()\n",
    "sm.nodes.index = 'node_' +sm.nodes.index.astype(str)\n",
    "\n",
    "sm.links.index = 'link_' +sm.links.index.astype(str)\n",
    "\n",
    "sm.links['a'] = sm.links['a'].apply(lambda a: dnodes.get(a))\n",
    "sm.links['b'] = sm.links['b'].apply(lambda a: dnodes.get(a))\n",
    "\n",
    "sm.links.drop_duplicates(subset=['trip_id','link_sequence'], inplace=True)\n",
    "\n",
    "# Tag route with only one trip\n",
    "time_slot = np.diff([hhmmss_to_seconds_since_midnight(time) for time in time_range])[0]\n",
    "sm.links.loc[(time_slot/sm.links['headway']) < 2.0, 'headway'] = np.nan\n",
    "\n",
    "sm.links = sm.links.to_crs(4326)\n",
    "sm.nodes = sm.nodes.to_crs(4326)"
   ]
  },
  {
   "cell_type": "code",
   "execution_count": 25,
   "id": "5f3607f8",
   "metadata": {},
   "outputs": [],
   "source": [
    "gpd.GeoDataFrame(columns=['feature'], geometry='feature',crs=4326).to_file('test.geojson',driver='GeoJSON')"
   ]
  },
  {
   "cell_type": "code",
   "execution_count": null,
   "id": "741dbeb6",
   "metadata": {},
   "outputs": [],
   "source": [
    "\n"
   ]
  },
  {
   "cell_type": "code",
   "execution_count": null,
   "id": "49aac050",
   "metadata": {},
   "outputs": [],
   "source": []
  },
  {
   "cell_type": "code",
   "execution_count": null,
   "id": "7cf58074",
   "metadata": {},
   "outputs": [],
   "source": []
  },
  {
   "cell_type": "markdown",
   "id": "28a81c76",
   "metadata": {},
   "source": [
    "# test"
   ]
  },
  {
   "cell_type": "code",
   "execution_count": null,
   "id": "82fada4b",
   "metadata": {},
   "outputs": [],
   "source": []
  },
  {
   "cell_type": "code",
   "execution_count": null,
   "id": "f2b27171",
   "metadata": {},
   "outputs": [],
   "source": []
  },
  {
   "cell_type": "code",
   "execution_count": null,
   "id": "888b5238",
   "metadata": {},
   "outputs": [],
   "source": []
  },
  {
   "cell_type": "code",
   "execution_count": null,
   "id": "1f623f5b",
   "metadata": {},
   "outputs": [],
   "source": []
  },
  {
   "cell_type": "code",
   "execution_count": null,
   "id": "4f760e27",
   "metadata": {},
   "outputs": [],
   "source": []
  },
  {
   "cell_type": "code",
   "execution_count": null,
   "id": "d25a4abd",
   "metadata": {},
   "outputs": [],
   "source": []
  },
  {
   "cell_type": "code",
   "execution_count": null,
   "id": "2227279d",
   "metadata": {},
   "outputs": [],
   "source": []
  },
  {
   "cell_type": "code",
   "execution_count": null,
   "id": "aed98bf5",
   "metadata": {},
   "outputs": [],
   "source": []
  },
  {
   "cell_type": "code",
   "execution_count": 72,
   "id": "e53279a3",
   "metadata": {},
   "outputs": [
    {
     "data": {
      "text/plain": [
       "0.6000012"
      ]
     },
     "execution_count": 72,
     "metadata": {},
     "output_type": "execute_result"
    }
   ],
   "source": [
    "# lambda price for 10GB per hours\n",
    "price = 0.0000166667*60*60*10\n",
    "price"
   ]
  },
  {
   "cell_type": "code",
   "execution_count": 74,
   "id": "d9a90384",
   "metadata": {},
   "outputs": [
    {
     "data": {
      "text/plain": [
       "12.000024"
      ]
     },
     "execution_count": 74,
     "metadata": {},
     "output_type": "execute_result"
    }
   ],
   "source": [
    "price*20"
   ]
  },
  {
   "cell_type": "code",
   "execution_count": null,
   "id": "bc1195cd",
   "metadata": {},
   "outputs": [],
   "source": []
  },
  {
   "cell_type": "code",
   "execution_count": 75,
   "id": "c82dee78",
   "metadata": {},
   "outputs": [
    {
     "data": {
      "text/plain": [
       "11.11111111111111"
      ]
     },
     "execution_count": 75,
     "metadata": {},
     "output_type": "execute_result"
    }
   ],
   "source": [
    "400_000/60/60/10 #heures gratuites a 10gb."
   ]
  },
  {
   "cell_type": "code",
   "execution_count": null,
   "id": "4650826e",
   "metadata": {},
   "outputs": [],
   "source": []
  },
  {
   "cell_type": "code",
   "execution_count": 76,
   "id": "36f6d665",
   "metadata": {},
   "outputs": [],
   "source": [
    "# with EB EC2 t3.xlarge:\n",
    "# 4 cores,m 16bg\n",
    "price = 0.1856 #per hour"
   ]
  },
  {
   "cell_type": "code",
   "execution_count": 77,
   "id": "38357a6e",
   "metadata": {},
   "outputs": [
    {
     "data": {
      "text/plain": [
       "5.568"
      ]
     },
     "execution_count": 77,
     "metadata": {},
     "output_type": "execute_result"
    }
   ],
   "source": [
    "price*30"
   ]
  },
  {
   "cell_type": "code",
   "execution_count": null,
   "id": "d0ee912a",
   "metadata": {},
   "outputs": [],
   "source": []
  },
  {
   "cell_type": "code",
   "execution_count": null,
   "id": "02c4f852",
   "metadata": {},
   "outputs": [],
   "source": [
    "#plan de match:\n",
    "si on a pas de shape_dist_traveled. prendre le temps avec les stop_time comme dist.\n",
    "(la methode 2 de gtfs_kit quand ca marche pas)\n",
    "\n",
    "anyway. on va recalculer avec le shape avec la methode a simon f."
   ]
  },
  {
   "cell_type": "code",
   "execution_count": 202,
   "id": "35f8850c",
   "metadata": {},
   "outputs": [
    {
     "data": {
      "text/plain": [
       "<function __main__.parallel.<locals>.decorator.<locals>.wrapper(*args, **kwargs)>"
      ]
     },
     "execution_count": 202,
     "metadata": {},
     "output_type": "execute_result"
    }
   ],
   "source": [
    "test"
   ]
  },
  {
   "cell_type": "code",
   "execution_count": 271,
   "id": "fc4af97c",
   "metadata": {},
   "outputs": [],
   "source": [
    "from parallel import parallel"
   ]
  },
  {
   "cell_type": "code",
   "execution_count": 424,
   "id": "cef0b916",
   "metadata": {},
   "outputs": [],
   "source": [
    "from multiprocessing import Process, Manager\n",
    "\n",
    "def parallel(loop_arg,num_cores=2):\n",
    "    def decorator(func):\n",
    "        def wrapper(**kwargs):\n",
    "            print(num_cores)\n",
    "            if num_cores==1:\n",
    "                return func(**kwargs)\n",
    "            else:\n",
    "                ls = kwargs.pop(loop_arg)\n",
    "                chunk_length =  round(len(ls)/ num_cores)\n",
    "                chunks = [ls[j: j + chunk_length] for j in range(0, len(ls), chunk_length)]\n",
    "                \n",
    "                def process_wrapper(chunk, kwargs, result_list, index):\n",
    "                    kwargs[loop_arg] = chunk\n",
    "                    result = func(**kwargs)\n",
    "                    result_list[index] = result\n",
    "                manager = Manager()\n",
    "                result_list = manager.list([None] * len(chunks))\n",
    "                processes = []\n",
    "                for i, chunk in enumerate(chunks):\n",
    "                    process = Process(target=process_wrapper, args=(chunk, kwargs, result_list, i))\n",
    "                    process.start()\n",
    "                    processes.append(process)\n",
    "                for process in processes:\n",
    "                    process.join()\n",
    "                # Convert the manager list to a regular list for easier access\n",
    "                result_list = np.array(result_list)\n",
    "                if result_list.ndim==1:\n",
    "                    return result_list\n",
    "                else:\n",
    "                    tuple_len = result_list.shape[1]\n",
    "                    return tuple(res[:][i] for i in range(tuple_len))\n",
    "                 \n",
    "        return wrapper\n",
    "    return decorator\n",
    "\n",
    "\n",
    "\n"
   ]
  },
  {
   "cell_type": "code",
   "execution_count": 425,
   "id": "01576b6b",
   "metadata": {},
   "outputs": [],
   "source": [
    "@parallel(num_cores=2,loop_arg='trip_list')\n",
    "def test(links,trip_list,constant):\n",
    "    result = []\n",
    "    for trip in trip_list:\n",
    "        links = sm.links[sm.links['trip_id']==trip]\n",
    "        res = links['headway'].values.sum() + constant\n",
    "        result.append((trip,res))\n",
    "    return result,'yes'"
   ]
  },
  {
   "cell_type": "code",
   "execution_count": 426,
   "id": "db7cbfb8",
   "metadata": {},
   "outputs": [
    {
     "name": "stdout",
     "output_type": "stream",
     "text": [
      "2\n"
     ]
    }
   ],
   "source": [
    "trip_list =  sm.links['trip_id'].unique()\n",
    "# calling the function\n",
    "res1,res2 = test(links=sm.links, trip_list=trip_list, constant=44)"
   ]
  },
  {
   "cell_type": "code",
   "execution_count": null,
   "id": "33013ef2",
   "metadata": {},
   "outputs": [],
   "source": []
  },
  {
   "cell_type": "code",
   "execution_count": 413,
   "id": "2cc2f381",
   "metadata": {},
   "outputs": [
    {
     "data": {
      "text/plain": [
       "2"
      ]
     },
     "execution_count": 413,
     "metadata": {},
     "output_type": "execute_result"
    }
   ],
   "source": [
    "res.shape[1]"
   ]
  },
  {
   "cell_type": "code",
   "execution_count": null,
   "id": "82f57d46",
   "metadata": {},
   "outputs": [],
   "source": []
  },
  {
   "cell_type": "code",
   "execution_count": null,
   "id": "55ea0650",
   "metadata": {},
   "outputs": [],
   "source": []
  },
  {
   "cell_type": "code",
   "execution_count": null,
   "id": "d8688773",
   "metadata": {},
   "outputs": [],
   "source": []
  }
 ],
 "metadata": {
  "kernelspec": {
   "display_name": "quetzal_env",
   "language": "python",
   "name": "quetzal_env"
  },
  "language_info": {
   "codemirror_mode": {
    "name": "ipython",
    "version": 3
   },
   "file_extension": ".py",
   "mimetype": "text/x-python",
   "name": "python",
   "nbconvert_exporter": "python",
   "pygments_lexer": "ipython3",
   "version": "3.8.6"
  }
 },
 "nbformat": 4,
 "nbformat_minor": 5
}
