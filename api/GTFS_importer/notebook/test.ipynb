{
 "cells": [
  {
   "cell_type": "code",
   "execution_count": 251,
   "id": "45cc632a",
   "metadata": {},
   "outputs": [],
   "source": [
    "import geopandas as gpd\n",
    "import pandas as pd\n",
    "import sys\n",
    "import os\n",
    "import gtfs_kit as gtk\n",
    "import numpy as np\n",
    "sys.path.insert(0, r'../../../')\n",
    "from quetzal.io.gtfs_reader import importer\n",
    "from quetzal.io.gtfs_reader.frequencies import hhmmss_to_seconds_since_midnight \n",
    "from quetzal.model import stepmodel\n",
    "\n",
    "\n",
    "import warnings\n",
    "warnings.filterwarnings(\"ignore\")"
   ]
  },
  {
   "cell_type": "code",
   "execution_count": null,
   "id": "8853d00a",
   "metadata": {},
   "outputs": [],
   "source": []
  },
  {
   "cell_type": "code",
   "execution_count": null,
   "id": "dc8a35e3",
   "metadata": {},
   "outputs": [],
   "source": []
  },
  {
   "cell_type": "code",
   "execution_count": 252,
   "id": "6f0f96a2",
   "metadata": {},
   "outputs": [
    {
     "data": {
      "text/plain": [
       "1"
      ]
     },
     "execution_count": 252,
     "metadata": {},
     "output_type": "execute_result"
    }
   ],
   "source": [
    "time_range = ['6:00:00', '8:59:00'] # PPAM\n",
    "#dates = ['20191015'] # the dates must be within the feed start and end dates\n",
    "#https://pandas.pydata.org/docs/reference/api/pandas.DatetimeIndex.weekday.html\n",
    "day = 'tuesday'\n",
    "day_dict = {\n",
    "    'monday': 0,\n",
    "    'tuesday': 1,\n",
    "    'wednesday': 2,\n",
    "    'thursday': 3,\n",
    "    'friday': 4,\n",
    "    'saturday': 5,\n",
    "    'sunday': 6\n",
    "}\n",
    "selected_day = day_dict[day]\n",
    "selected_day"
   ]
  },
  {
   "cell_type": "code",
   "execution_count": 253,
   "id": "d24a503f",
   "metadata": {
    "scrolled": true
   },
   "outputs": [],
   "source": [
    "\n",
    "files=['../tests/gtfs/brisbane.zip']\n",
    "files=[      \"https://storage.googleapis.com/storage/v1/b/mdb-latest/o/au-queensland-translink-south-east-queensland-translink-seq-gtfs-668.zip?alt=media\"\n",
    "]"
   ]
  },
  {
   "cell_type": "code",
   "execution_count": null,
   "id": "b89b0fd9",
   "metadata": {},
   "outputs": [],
   "source": []
  },
  {
   "cell_type": "code",
   "execution_count": 254,
   "id": "9cb29fcd",
   "metadata": {},
   "outputs": [],
   "source": [
    "#files = [\"https://storage.googleapis.com/storage/v1/b/mdb-latest/o/ca-british-columbia-translink-vancouver-gtfs-1222.zip?alt=media\",'gtfs/cmm/stl.zip']\n",
    "#files=['https://storage.googleapis.com/storage/v1/b/mdb-latest/o/ca-quebec-reseau-de-transport-de-la-capitale-gtfs-757.zip?alt=media']"
   ]
  },
  {
   "cell_type": "markdown",
   "id": "5fb5f6f3",
   "metadata": {},
   "source": [
    "# import"
   ]
  },
  {
   "cell_type": "code",
   "execution_count": 255,
   "id": "00b44232",
   "metadata": {},
   "outputs": [
    {
     "name": "stdout",
     "output_type": "stream",
     "text": [
      "Importing https://storage.googleapis.com/storage/v1/b/mdb-latest/o/au-queensland-translink-south-east-queensland-translink-seq-gtfs-668.zip?alt=media.zip\n"
     ]
    }
   ],
   "source": [
    "feeds=[]\n",
    "for file in files:\n",
    "    print('Importing {f}.zip'.format(f=file))\n",
    "    feeds.append(importer.GtfsImporter(path=file, dist_units='m'))\n"
   ]
  },
  {
   "cell_type": "code",
   "execution_count": null,
   "id": "db289bc4",
   "metadata": {},
   "outputs": [],
   "source": []
  },
  {
   "cell_type": "code",
   "execution_count": 261,
   "id": "a3cfe0a6",
   "metadata": {},
   "outputs": [
    {
     "name": "stdout",
     "output_type": "stream",
     "text": [
      "https://storage.googleapis.com/storage/v1/b/mdb-latest/o/au-queensland-translink-south-east-queensland-translink-seq-gtfs-668.zip?alt=media\n"
     ]
    }
   ],
   "source": [
    "for i in range(len(feeds)):\n",
    "    print(files[i])\n",
    "    if 'agency_id' not in feeds[i].agency:\n",
    "        print(f'add agency_id to agency in {files[i]}')\n",
    "        feeds[i].agency['agency_id'] = feeds[i].agency['agency_name']\n",
    "    \n",
    "    if 'agency_id' not in feeds[i].routes:\n",
    "        print(f'add agency_id to routes in {files[i]}')\n",
    "        feeds[i].routes['agency_id'] = feeds[i].agency['agency_id'].values[0]\n",
    "    \n",
    "    if 'pickup_type' not in feeds[i].stop_times:\n",
    "        print(f'picjup_type missing in stop_times. set to 0 in {files[i]}')\n",
    "        feeds[i].stop_times['pickup_type'] = 0\n",
    "    \n",
    "    if 'drop_off_type' not in feeds[i].stop_times:\n",
    "        print(f'drop_odd_type missing in stop_times. set to 0 in {files[i]}')\n",
    "        feeds[i].stop_times['drop_off_type'] = 0\n",
    "        \n",
    "    if 'parent_station' not in feeds[i].stops:\n",
    "        print(f'parent_station missing in stops. set to NaN in {files[i]}')\n",
    "        feeds[i].stops['parent_station'] = np.nan\n",
    "    if 'stop_code' not in feeds[i].stops:\n",
    "        print(f'stop_code missing in stops. set to NaN in {files[i]}')\n",
    "        feeds[i].stops['stop_code'] = np.nan\n",
    "        \n",
    "    feeds[i].stop_times['pickup_type'].fillna(0, inplace=True)\n",
    "    feeds[i].stop_times['drop_off_type'].fillna(0, inplace=True)\n",
    "    feeds[i].stop_times['arrival_time'] = feeds[i].stop_times['departure_time']"
   ]
  },
  {
   "cell_type": "code",
   "execution_count": 262,
   "id": "9aa9a2ec",
   "metadata": {},
   "outputs": [
    {
     "data": {
      "text/html": [
       "<div>\n",
       "<style scoped>\n",
       "    .dataframe tbody tr th:only-of-type {\n",
       "        vertical-align: middle;\n",
       "    }\n",
       "\n",
       "    .dataframe tbody tr th {\n",
       "        vertical-align: top;\n",
       "    }\n",
       "\n",
       "    .dataframe thead th {\n",
       "        text-align: right;\n",
       "    }\n",
       "</style>\n",
       "<table border=\"1\" class=\"dataframe\">\n",
       "  <thead>\n",
       "    <tr style=\"text-align: right;\">\n",
       "      <th></th>\n",
       "      <th>agency_name</th>\n",
       "      <th>agency_url</th>\n",
       "      <th>agency_timezone</th>\n",
       "      <th>agency_lang</th>\n",
       "      <th>agency_phone</th>\n",
       "      <th>agency_id</th>\n",
       "    </tr>\n",
       "  </thead>\n",
       "  <tbody>\n",
       "    <tr>\n",
       "      <th>0</th>\n",
       "      <td>Translink</td>\n",
       "      <td>https://translink.com.au/</td>\n",
       "      <td>Australia/Brisbane</td>\n",
       "      <td>en</td>\n",
       "      <td>13 12 30</td>\n",
       "      <td>Translink</td>\n",
       "    </tr>\n",
       "  </tbody>\n",
       "</table>\n",
       "</div>"
      ],
      "text/plain": [
       "  agency_name                 agency_url     agency_timezone agency_lang  \\\n",
       "0   Translink  https://translink.com.au/  Australia/Brisbane          en   \n",
       "\n",
       "  agency_phone  agency_id  \n",
       "0     13 12 30  Translink  "
      ]
     },
     "execution_count": 262,
     "metadata": {},
     "output_type": "execute_result"
    }
   ],
   "source": [
    "feeds[0].agency"
   ]
  },
  {
   "cell_type": "code",
   "execution_count": 263,
   "id": "ab7a0447",
   "metadata": {},
   "outputs": [
    {
     "data": {
      "text/html": [
       "<div>\n",
       "<style scoped>\n",
       "    .dataframe tbody tr th:only-of-type {\n",
       "        vertical-align: middle;\n",
       "    }\n",
       "\n",
       "    .dataframe tbody tr th {\n",
       "        vertical-align: top;\n",
       "    }\n",
       "\n",
       "    .dataframe thead th {\n",
       "        text-align: right;\n",
       "    }\n",
       "</style>\n",
       "<table border=\"1\" class=\"dataframe\">\n",
       "  <thead>\n",
       "    <tr style=\"text-align: right;\">\n",
       "      <th></th>\n",
       "      <th>route_id</th>\n",
       "      <th>service_id</th>\n",
       "      <th>trip_id</th>\n",
       "      <th>trip_headsign</th>\n",
       "      <th>direction_id</th>\n",
       "      <th>block_id</th>\n",
       "      <th>shape_id</th>\n",
       "    </tr>\n",
       "  </thead>\n",
       "  <tbody>\n",
       "    <tr>\n",
       "      <th>0</th>\n",
       "      <td>R395-2410</td>\n",
       "      <td>ATS_MGB 24-35256</td>\n",
       "      <td>26730744-ATS_MGB 24-35256</td>\n",
       "      <td>Roma Street station</td>\n",
       "      <td>0</td>\n",
       "      <td>NaN</td>\n",
       "      <td>R3950114</td>\n",
       "    </tr>\n",
       "    <tr>\n",
       "      <th>1</th>\n",
       "      <td>R395-2410</td>\n",
       "      <td>ATS_MGB 24-35256</td>\n",
       "      <td>26730745-ATS_MGB 24-35256</td>\n",
       "      <td>Roma Street station</td>\n",
       "      <td>0</td>\n",
       "      <td>NaN</td>\n",
       "      <td>R3950114</td>\n",
       "    </tr>\n",
       "    <tr>\n",
       "      <th>2</th>\n",
       "      <td>R395-2410</td>\n",
       "      <td>ATS_MGB 24-35256</td>\n",
       "      <td>26730746-ATS_MGB 24-35256</td>\n",
       "      <td>Roma Street station</td>\n",
       "      <td>0</td>\n",
       "      <td>NaN</td>\n",
       "      <td>R3950114</td>\n",
       "    </tr>\n",
       "    <tr>\n",
       "      <th>3</th>\n",
       "      <td>R395-2410</td>\n",
       "      <td>ATS_MGB 24-35256</td>\n",
       "      <td>26730747-ATS_MGB 24-35256</td>\n",
       "      <td>Roma Street station</td>\n",
       "      <td>0</td>\n",
       "      <td>NaN</td>\n",
       "      <td>R3950114</td>\n",
       "    </tr>\n",
       "    <tr>\n",
       "      <th>4</th>\n",
       "      <td>R395-2410</td>\n",
       "      <td>ATS_MGB 24-35256</td>\n",
       "      <td>26730748-ATS_MGB 24-35256</td>\n",
       "      <td>Roma Street station</td>\n",
       "      <td>0</td>\n",
       "      <td>NaN</td>\n",
       "      <td>R3950114</td>\n",
       "    </tr>\n",
       "    <tr>\n",
       "      <th>...</th>\n",
       "      <td>...</td>\n",
       "      <td>...</td>\n",
       "      <td>...</td>\n",
       "      <td>...</td>\n",
       "      <td>...</td>\n",
       "      <td>...</td>\n",
       "      <td>...</td>\n",
       "    </tr>\n",
       "    <tr>\n",
       "      <th>124655</th>\n",
       "      <td>528-3072</td>\n",
       "      <td>WBS 23_24-33448</td>\n",
       "      <td>24312335-WBS 23_24-33448</td>\n",
       "      <td>Springfield station</td>\n",
       "      <td>0</td>\n",
       "      <td>NaN</td>\n",
       "      <td>5280049</td>\n",
       "    </tr>\n",
       "    <tr>\n",
       "      <th>124656</th>\n",
       "      <td>533-3072</td>\n",
       "      <td>WBS 23_24-33448</td>\n",
       "      <td>24312336-WBS 23_24-33448</td>\n",
       "      <td>Orion Springfield Central Anti-Clockwise</td>\n",
       "      <td>1</td>\n",
       "      <td>NaN</td>\n",
       "      <td>5330020</td>\n",
       "    </tr>\n",
       "    <tr>\n",
       "      <th>124657</th>\n",
       "      <td>527-3072</td>\n",
       "      <td>WBS 23_24-33448</td>\n",
       "      <td>24312337-WBS 23_24-33448</td>\n",
       "      <td>Orion Springfield Central</td>\n",
       "      <td>1</td>\n",
       "      <td>NaN</td>\n",
       "      <td>5270069</td>\n",
       "    </tr>\n",
       "    <tr>\n",
       "      <th>124658</th>\n",
       "      <td>526-3072</td>\n",
       "      <td>WBS 23_24-33448</td>\n",
       "      <td>24312338-WBS 23_24-33448</td>\n",
       "      <td>Springfield Central</td>\n",
       "      <td>1</td>\n",
       "      <td>NaN</td>\n",
       "      <td>5260042</td>\n",
       "    </tr>\n",
       "    <tr>\n",
       "      <th>124659</th>\n",
       "      <td>528-3072</td>\n",
       "      <td>WBS 23_24-33448</td>\n",
       "      <td>24312339-WBS 23_24-33448</td>\n",
       "      <td>Springfield station</td>\n",
       "      <td>0</td>\n",
       "      <td>NaN</td>\n",
       "      <td>5280049</td>\n",
       "    </tr>\n",
       "  </tbody>\n",
       "</table>\n",
       "<p>124660 rows × 7 columns</p>\n",
       "</div>"
      ],
      "text/plain": [
       "         route_id        service_id                    trip_id  \\\n",
       "0       R395-2410  ATS_MGB 24-35256  26730744-ATS_MGB 24-35256   \n",
       "1       R395-2410  ATS_MGB 24-35256  26730745-ATS_MGB 24-35256   \n",
       "2       R395-2410  ATS_MGB 24-35256  26730746-ATS_MGB 24-35256   \n",
       "3       R395-2410  ATS_MGB 24-35256  26730747-ATS_MGB 24-35256   \n",
       "4       R395-2410  ATS_MGB 24-35256  26730748-ATS_MGB 24-35256   \n",
       "...           ...               ...                        ...   \n",
       "124655   528-3072   WBS 23_24-33448   24312335-WBS 23_24-33448   \n",
       "124656   533-3072   WBS 23_24-33448   24312336-WBS 23_24-33448   \n",
       "124657   527-3072   WBS 23_24-33448   24312337-WBS 23_24-33448   \n",
       "124658   526-3072   WBS 23_24-33448   24312338-WBS 23_24-33448   \n",
       "124659   528-3072   WBS 23_24-33448   24312339-WBS 23_24-33448   \n",
       "\n",
       "                                   trip_headsign  direction_id block_id  \\\n",
       "0                            Roma Street station             0      NaN   \n",
       "1                            Roma Street station             0      NaN   \n",
       "2                            Roma Street station             0      NaN   \n",
       "3                            Roma Street station             0      NaN   \n",
       "4                            Roma Street station             0      NaN   \n",
       "...                                          ...           ...      ...   \n",
       "124655                       Springfield station             0      NaN   \n",
       "124656  Orion Springfield Central Anti-Clockwise             1      NaN   \n",
       "124657                 Orion Springfield Central             1      NaN   \n",
       "124658                       Springfield Central             1      NaN   \n",
       "124659                       Springfield station             0      NaN   \n",
       "\n",
       "        shape_id  \n",
       "0       R3950114  \n",
       "1       R3950114  \n",
       "2       R3950114  \n",
       "3       R3950114  \n",
       "4       R3950114  \n",
       "...          ...  \n",
       "124655   5280049  \n",
       "124656   5330020  \n",
       "124657   5270069  \n",
       "124658   5260042  \n",
       "124659   5280049  \n",
       "\n",
       "[124660 rows x 7 columns]"
      ]
     },
     "execution_count": 263,
     "metadata": {},
     "output_type": "execute_result"
    }
   ],
   "source": [
    "feeds[0].trips"
   ]
  },
  {
   "cell_type": "markdown",
   "id": "fbb12352",
   "metadata": {},
   "source": [
    "# filtres"
   ]
  },
  {
   "cell_type": "code",
   "execution_count": 264,
   "id": "ebc3b4a7",
   "metadata": {},
   "outputs": [],
   "source": [
    "dates =[]\n",
    "for feed in feeds:\n",
    "    try:\n",
    "        min_date = feed.calendar['start_date'].unique().min()\n",
    "        max_date = feed.calendar['end_date'].unique().max()\n",
    "    except:\n",
    "        min_date = feed.calendar_dates['date'].unique().min()\n",
    "        max_date = feed.calendar_dates['date'].unique().max()\n",
    "        \n",
    "    # get date range \n",
    "    s = pd.date_range(min_date, max_date, freq='D').to_series()\n",
    "    try:\n",
    "        # get dayofweek selected and take first one\n",
    "        s = s[s.dt.dayofweek==selected_day][0]\n",
    "        # format  ex: ['20231011'] and append\n",
    "        dates.append([f'{s.year}{str(s.month).zfill(2)}{str(s.day).zfill(2)}'])\n",
    "    except:\n",
    "        print('date not available. use', min_date)\n",
    "        dates.append(min_date)\n",
    "        \n"
   ]
  },
  {
   "cell_type": "code",
   "execution_count": null,
   "id": "4d99d960",
   "metadata": {},
   "outputs": [],
   "source": []
  },
  {
   "cell_type": "code",
   "execution_count": 265,
   "id": "7aec8be7",
   "metadata": {},
   "outputs": [
    {
     "data": {
      "text/plain": [
       "['6:00:00', '8:59:00']"
      ]
     },
     "execution_count": 265,
     "metadata": {},
     "output_type": "execute_result"
    }
   ],
   "source": [
    "dates\n",
    "time_range"
   ]
  },
  {
   "cell_type": "code",
   "execution_count": 266,
   "id": "bb4a6916",
   "metadata": {},
   "outputs": [],
   "source": [
    "feeds_t = []\n",
    "\n",
    "for i, feed in enumerate(feeds):\n",
    "    feed_t = feed.restrict(dates=dates[i], time_range=time_range)\n",
    "    if len(feed_t.trips) > 0:\n",
    "        feeds_t.append(feed_t)\n",
    "    "
   ]
  },
  {
   "cell_type": "code",
   "execution_count": 267,
   "id": "65d19d25",
   "metadata": {},
   "outputs": [
    {
     "data": {
      "text/plain": [
       "False"
      ]
     },
     "execution_count": 267,
     "metadata": {},
     "output_type": "execute_result"
    }
   ],
   "source": [
    "feeds_t[0].shapes is None"
   ]
  },
  {
   "cell_type": "code",
   "execution_count": 268,
   "id": "cf770091",
   "metadata": {},
   "outputs": [
    {
     "data": {
      "text/plain": [
       "False"
      ]
     },
     "execution_count": 268,
     "metadata": {},
     "output_type": "execute_result"
    }
   ],
   "source": [
    "type(feed.shapes) == type(None)"
   ]
  },
  {
   "cell_type": "code",
   "execution_count": 269,
   "id": "c8029361",
   "metadata": {},
   "outputs": [
    {
     "name": "stdout",
     "output_type": "stream",
     "text": [
      "add shape_dist_traveled to shapes\n"
     ]
    }
   ],
   "source": [
    "print('add shape_dist_traveled to shapes')\n",
    "for feed in feeds_t:\n",
    "    if feed.shapes is None:\n",
    "        print('no shapes in gtfs')\n",
    "        pass\n",
    "    elif 'shape_dist_traveled' not in feed.shapes.columns:\n",
    "        feed.append_dist_to_shapes()\n",
    "    elif any(feed.shapes['shape_dist_traveled'].isnull()):\n",
    "        feed.append_dist_to_shapes()"
   ]
  },
  {
   "cell_type": "code",
   "execution_count": null,
   "id": "bf059bfc",
   "metadata": {},
   "outputs": [],
   "source": []
  },
  {
   "cell_type": "code",
   "execution_count": 270,
   "id": "ca3b5369",
   "metadata": {},
   "outputs": [],
   "source": [
    "for feed in feeds_t:\n",
    "    if feed.shapes is None:\n",
    "        print('no shapes in gtfs')\n",
    "        continue\n",
    "    elif 'shape_dist_traveled' not in feed.stop_times.columns:\n",
    "        feed.append_dist_to_stop_times_fast()\n",
    "    else:\n",
    "        nan_sequence=feed.stop_times[feed.stop_times['shape_dist_traveled'].isnull()]['stop_sequence'].unique()\n",
    "        if all(seq==1 for seq in nan_sequence):\n",
    "            feed.stop_times['shape_dist_traveled'] = feed.stop_times['shape_dist_traveled'].fillna(0)\n",
    "        else:\n",
    "            feed.append_dist_to_stop_times_fast\n",
    "            \n",
    "    if feed.stop_times['shape_dist_traveled'].max() < 100:\n",
    "        print(f'convert to meters')\n",
    "        feed.dist_units = 'km'\n",
    "        feed = gtk.convert_dist(feed, new_dist_units='m')\n"
   ]
  },
  {
   "cell_type": "code",
   "execution_count": null,
   "id": "385b021d",
   "metadata": {},
   "outputs": [],
   "source": []
  },
  {
   "cell_type": "code",
   "execution_count": null,
   "id": "faf29e0a",
   "metadata": {},
   "outputs": [],
   "source": []
  },
  {
   "cell_type": "code",
   "execution_count": 271,
   "id": "0c681f1f",
   "metadata": {
    "scrolled": false
   },
   "outputs": [
    {
     "name": "stdout",
     "output_type": "stream",
     "text": [
      "0\n",
      "CPU times: user 19.2 s, sys: 363 ms, total: 19.5 s\n",
      "Wall time: 1min 46s\n"
     ]
    }
   ],
   "source": [
    "%%time\n",
    "feeds_frequencies = []\n",
    "\n",
    "for i in range(len(feeds_t)):\n",
    "    print(i)\n",
    "    feed_s = feeds_t[i].copy()\n",
    "    feed_s.group_services()\n",
    "\n",
    "    feed_s.build_stop_clusters(distance_threshold=50)\n",
    "    feed_s.build_patterns(on='cluster_id')\n",
    "\n",
    "    feed_frequencies = feed_s.convert_to_frequencies(time_range=time_range)\n",
    "    shapes = feed_frequencies.shapes is not None\n",
    "    feed_frequencies.build_links_and_nodes(log=False, \n",
    "                                           shape_dist_traveled=True, \n",
    "                                           from_shape=shapes, \n",
    "                                           stick_nodes_on_links=shapes,\n",
    "                                           num_cores=4,\n",
    "                                           keep_origin_columns=['departure_time','pickup_type'],\n",
    "                                           keep_destination_columns=['arrival_time','drop_off_type'])\n",
    "    feeds_frequencies.append(feed_frequencies)"
   ]
  },
  {
   "cell_type": "code",
   "execution_count": 272,
   "id": "8e6058ac",
   "metadata": {
    "scrolled": true
   },
   "outputs": [
    {
     "data": {
      "text/plain": [
       "11499    10740\n",
       "23126     5370\n",
       "23143     5370\n",
       "13757     1534\n",
       "19660    10740\n",
       "         ...  \n",
       "5010      5370\n",
       "4922      5370\n",
       "4923      5370\n",
       "5011      5370\n",
       "4924      5370\n",
       "Name: headway, Length: 25366, dtype: int64"
      ]
     },
     "execution_count": 272,
     "metadata": {},
     "output_type": "execute_result"
    }
   ],
   "source": [
    "feeds_frequencies[0].links['headway']"
   ]
  },
  {
   "cell_type": "code",
   "execution_count": 273,
   "id": "2c4e7149",
   "metadata": {},
   "outputs": [],
   "source": [
    "import json\n",
    "with open('../route_type.json') as file:\n",
    "    mapping = json.load(file)\n",
    "    mapping = {int(key):item for key,item in mapping.items()}"
   ]
  },
  {
   "cell_type": "code",
   "execution_count": null,
   "id": "113b8458",
   "metadata": {},
   "outputs": [],
   "source": []
  },
  {
   "cell_type": "code",
   "execution_count": 274,
   "id": "2e761bad",
   "metadata": {},
   "outputs": [],
   "source": [
    "retire = ['taxi']\n",
    "for feed_frequencies in feeds_frequencies:\n",
    "    feed_frequencies.links['route_type'] = feed_frequencies.links['route_type'].apply(\n",
    "        lambda t: mapping.get(t, np.nan)\n",
    "    )\n",
    "    \n",
    "    assert not any(feed_frequencies.links['route_type'].isna())\n",
    "    feed_frequencies.links = feed_frequencies.links[~feed_frequencies.links['route_type'].isin(retire)]\n",
    "\n",
    "for feed_frequencies in feeds_frequencies:\n",
    "    feed_frequencies.links.loc[feed_frequencies.links['time'] == 0,'time'] = 1.0"
   ]
  },
  {
   "cell_type": "markdown",
   "id": "1feafd07",
   "metadata": {},
   "source": [
    "# create Model"
   ]
  },
  {
   "cell_type": "code",
   "execution_count": 275,
   "id": "c01f7e55",
   "metadata": {},
   "outputs": [],
   "source": [
    "columns=['trip_id','route_id','agency_id','direction_id','a','b', 'shape_dist_traveled',\n",
    "                                    'link_sequence','time','headway','pickup_type', 'drop_off_type',\n",
    "                                    'route_short_name','route_type','route_color','geometry']"
   ]
  },
  {
   "cell_type": "code",
   "execution_count": 276,
   "id": "3595a005",
   "metadata": {},
   "outputs": [
    {
     "data": {
      "text/plain": [
       "11499    10740\n",
       "23126     5370\n",
       "23143     5370\n",
       "13757     1534\n",
       "19660    10740\n",
       "         ...  \n",
       "5010      5370\n",
       "4922      5370\n",
       "4923      5370\n",
       "5011      5370\n",
       "4924      5370\n",
       "Name: headway, Length: 25366, dtype: int64"
      ]
     },
     "execution_count": 276,
     "metadata": {},
     "output_type": "execute_result"
    }
   ],
   "source": [
    "feeds_frequencies[0].links['headway']"
   ]
  },
  {
   "cell_type": "code",
   "execution_count": 277,
   "id": "8b8f8dd7",
   "metadata": {},
   "outputs": [],
   "source": [
    "sm = stepmodel.StepModel(epsg=4326, coordinates_unit='meter')\n",
    "\n",
    "links_concat = []; nodes_concat = []\n",
    "for feed_frequencies in feeds_frequencies:\n",
    "    links_concat.append(feed_frequencies.links)\n",
    "    nodes_concat.append(feed_frequencies.nodes)\n",
    "if len(links_concat)==0:\n",
    "    print('gg')\n",
    "    \n",
    "sm.links = pd.concat(links_concat)\n",
    "for col in columns:\n",
    "    if col not in sm.links.columns:\n",
    "        sm.links[col] = np.nan\n",
    "        \n",
    "sm.links = sm.links[columns]\n",
    "sm.nodes = pd.concat(nodes_concat)[['stop_id','stop_name','stop_code','geometry']]\n",
    "\n",
    "sm.nodes = sm.nodes.reset_index(drop=True).sort_index()\n",
    "sm.links = sm.links.reset_index(drop=True).sort_index()\n",
    "\n",
    "\n",
    "sm.nodes.loc[sm.nodes['stop_code'].isna(),'stop_code'] = sm.nodes.loc[sm.nodes['stop_code'].isna(),'stop_id'] \n",
    "sm.nodes.drop_duplicates(subset=['stop_id'], inplace=True)\n",
    "\n",
    "sm.links['trip_id'] = sm.links['agency_id'] +'_' +sm.links['trip_id']\n",
    "sm.links['route_id'] = sm.links['agency_id'] +'_' +sm.links['route_id']\n",
    "\n",
    "sm.links = sm.links.sort_values(['route_type','trip_id']).reset_index(drop=True)\n",
    "\n",
    "dnodes = ('node_' +sm.nodes.reset_index().set_index('stop_id')['index'].astype(str)).to_dict()\n",
    "sm.nodes.index = 'node_' +sm.nodes.index.astype(str)\n",
    "\n",
    "sm.links.index = 'link_' +sm.links.index.astype(str)\n",
    "\n",
    "sm.links['a'] = sm.links['a'].apply(lambda a: dnodes.get(a))\n",
    "sm.links['b'] = sm.links['b'].apply(lambda a: dnodes.get(a))\n",
    "\n",
    "sm.links.drop_duplicates(subset=['trip_id','link_sequence'], inplace=True)\n",
    "\n",
    "# Tag route with only one trip\n",
    "#time_slot = np.diff([hhmmss_to_seconds_since_midnight(time) for time in time_range])[0]\n",
    "#sm.links.loc[(time_slot/sm.links['headway']) < 2.0, 'headway'] = np.nan\n",
    "\n",
    "sm.links = sm.links.to_crs(4326)\n",
    "sm.nodes = sm.nodes.to_crs(4326)"
   ]
  },
  {
   "cell_type": "code",
   "execution_count": 278,
   "id": "5f3607f8",
   "metadata": {},
   "outputs": [],
   "source": [
    "gpd.GeoDataFrame(columns=['feature'], geometry='feature',crs=4326).to_file('test.geojson',driver='GeoJSON')"
   ]
  },
  {
   "cell_type": "code",
   "execution_count": null,
   "id": "741dbeb6",
   "metadata": {},
   "outputs": [],
   "source": []
  },
  {
   "cell_type": "code",
   "execution_count": null,
   "id": "49aac050",
   "metadata": {},
   "outputs": [],
   "source": []
  },
  {
   "cell_type": "code",
   "execution_count": null,
   "id": "7cf58074",
   "metadata": {},
   "outputs": [],
   "source": []
  },
  {
   "cell_type": "markdown",
   "id": "28a81c76",
   "metadata": {},
   "source": [
    "# test"
   ]
  },
  {
   "cell_type": "code",
   "execution_count": 279,
   "id": "82fada4b",
   "metadata": {},
   "outputs": [
    {
     "data": {
      "text/plain": [
       "896"
      ]
     },
     "execution_count": 279,
     "metadata": {},
     "output_type": "execute_result"
    }
   ],
   "source": [
    "len(sm.links['trip_id'].unique())"
   ]
  },
  {
   "cell_type": "code",
   "execution_count": 281,
   "id": "f2b27171",
   "metadata": {},
   "outputs": [
    {
     "data": {
      "text/plain": [
       "<Axes: >"
      ]
     },
     "execution_count": 281,
     "metadata": {},
     "output_type": "execute_result"
    },
    {
     "data": {
      "image/png": "[encoded data removed]",
      "text/plain": [
       "<Figure size 640x480 with 1 Axes>"
      ]
     },
     "metadata": {},
     "output_type": "display_data"
    }
   ],
   "source": [
    "sm.links.plot()"
   ]
  },
  {
   "cell_type": "code",
   "execution_count": null,
   "id": "888b5238",
   "metadata": {},
   "outputs": [],
   "source": []
  },
  {
   "cell_type": "code",
   "execution_count": null,
   "id": "1f623f5b",
   "metadata": {},
   "outputs": [],
   "source": []
  },
  {
   "cell_type": "code",
   "execution_count": null,
   "id": "4f760e27",
   "metadata": {},
   "outputs": [],
   "source": []
  },
  {
   "cell_type": "code",
   "execution_count": null,
   "id": "d25a4abd",
   "metadata": {},
   "outputs": [],
   "source": []
  },
  {
   "cell_type": "code",
   "execution_count": null,
   "id": "2227279d",
   "metadata": {},
   "outputs": [],
   "source": []
  },
  {
   "cell_type": "code",
   "execution_count": null,
   "id": "aed98bf5",
   "metadata": {},
   "outputs": [],
   "source": []
  },
  {
   "cell_type": "code",
   "execution_count": 19,
   "id": "e53279a3",
   "metadata": {},
   "outputs": [
    {
     "data": {
      "text/plain": [
       "0.6000012"
      ]
     },
     "execution_count": 19,
     "metadata": {},
     "output_type": "execute_result"
    }
   ],
   "source": [
    "# lambda price for 10GB per hours\n",
    "price = 0.0000166667*60*60*10\n",
    "price"
   ]
  },
  {
   "cell_type": "code",
   "execution_count": 20,
   "id": "d9a90384",
   "metadata": {},
   "outputs": [
    {
     "data": {
      "text/plain": [
       "12.000024"
      ]
     },
     "execution_count": 20,
     "metadata": {},
     "output_type": "execute_result"
    }
   ],
   "source": [
    "price*20"
   ]
  },
  {
   "cell_type": "code",
   "execution_count": null,
   "id": "bc1195cd",
   "metadata": {},
   "outputs": [],
   "source": []
  },
  {
   "cell_type": "code",
   "execution_count": 21,
   "id": "c82dee78",
   "metadata": {},
   "outputs": [
    {
     "data": {
      "text/plain": [
       "11.11111111111111"
      ]
     },
     "execution_count": 21,
     "metadata": {},
     "output_type": "execute_result"
    }
   ],
   "source": [
    "400_000/60/60/10 #heures gratuites a 10gb."
   ]
  },
  {
   "cell_type": "code",
   "execution_count": null,
   "id": "4650826e",
   "metadata": {},
   "outputs": [],
   "source": []
  },
  {
   "cell_type": "code",
   "execution_count": 22,
   "id": "36f6d665",
   "metadata": {},
   "outputs": [],
   "source": [
    "# with EB EC2 t3.xlarge:\n",
    "# 4 cores,m 16bg\n",
    "price = 0.1856 #per hour"
   ]
  },
  {
   "cell_type": "code",
   "execution_count": 23,
   "id": "38357a6e",
   "metadata": {},
   "outputs": [
    {
     "data": {
      "text/plain": [
       "5.568"
      ]
     },
     "execution_count": 23,
     "metadata": {},
     "output_type": "execute_result"
    }
   ],
   "source": [
    "price*30"
   ]
  },
  {
   "cell_type": "code",
   "execution_count": null,
   "id": "d0ee912a",
   "metadata": {},
   "outputs": [],
   "source": []
  },
  {
   "cell_type": "code",
   "execution_count": null,
   "id": "02c4f852",
   "metadata": {},
   "outputs": [],
   "source": [
    "#plan de match:\n",
    "si on a pas de shape_dist_traveled. prendre le temps avec les stop_time comme dist.\n",
    "(la methode 2 de gtfs_kit quand ca marche pas)\n",
    "\n",
    "anyway. on va recalculer avec le shape avec la methode a simon f."
   ]
  },
  {
   "cell_type": "code",
   "execution_count": 202,
   "id": "35f8850c",
   "metadata": {},
   "outputs": [
    {
     "data": {
      "text/plain": [
       "<function __main__.parallel.<locals>.decorator.<locals>.wrapper(*args, **kwargs)>"
      ]
     },
     "execution_count": 202,
     "metadata": {},
     "output_type": "execute_result"
    }
   ],
   "source": [
    "test"
   ]
  },
  {
   "cell_type": "code",
   "execution_count": 271,
   "id": "fc4af97c",
   "metadata": {},
   "outputs": [],
   "source": [
    "from parallel import parallel"
   ]
  },
  {
   "cell_type": "code",
   "execution_count": 424,
   "id": "cef0b916",
   "metadata": {},
   "outputs": [],
   "source": [
    "from multiprocessing import Process, Manager\n",
    "\n",
    "def parallel(loop_arg,num_cores=2):\n",
    "    def decorator(func):\n",
    "        def wrapper(**kwargs):\n",
    "            print(num_cores)\n",
    "            if num_cores==1:\n",
    "                return func(**kwargs)\n",
    "            else:\n",
    "                ls = kwargs.pop(loop_arg)\n",
    "                chunk_length =  round(len(ls)/ num_cores)\n",
    "                chunks = [ls[j: j + chunk_length] for j in range(0, len(ls), chunk_length)]\n",
    "                \n",
    "                def process_wrapper(chunk, kwargs, result_list, index):\n",
    "                    kwargs[loop_arg] = chunk\n",
    "                    result = func(**kwargs)\n",
    "                    result_list[index] = result\n",
    "                manager = Manager()\n",
    "                result_list = manager.list([None] * len(chunks))\n",
    "                processes = []\n",
    "                for i, chunk in enumerate(chunks):\n",
    "                    process = Process(target=process_wrapper, args=(chunk, kwargs, result_list, i))\n",
    "                    process.start()\n",
    "                    processes.append(process)\n",
    "                for process in processes:\n",
    "                    process.join()\n",
    "                # Convert the manager list to a regular list for easier access\n",
    "                result_list = np.array(result_list)\n",
    "                if result_list.ndim==1:\n",
    "                    return result_list\n",
    "                else:\n",
    "                    tuple_len = result_list.shape[1]\n",
    "                    return tuple(res[:][i] for i in range(tuple_len))\n",
    "                 \n",
    "        return wrapper\n",
    "    return decorator\n",
    "\n",
    "\n",
    "\n"
   ]
  },
  {
   "cell_type": "code",
   "execution_count": 425,
   "id": "01576b6b",
   "metadata": {},
   "outputs": [],
   "source": [
    "@parallel(num_cores=2,loop_arg='trip_list')\n",
    "def test(links,trip_list,constant):\n",
    "    result = []\n",
    "    for trip in trip_list:\n",
    "        links = sm.links[sm.links['trip_id']==trip]\n",
    "        res = links['headway'].values.sum() + constant\n",
    "        result.append((trip,res))\n",
    "    return result,'yes'"
   ]
  },
  {
   "cell_type": "code",
   "execution_count": 426,
   "id": "db7cbfb8",
   "metadata": {},
   "outputs": [
    {
     "name": "stdout",
     "output_type": "stream",
     "text": [
      "2\n"
     ]
    }
   ],
   "source": [
    "trip_list =  sm.links['trip_id'].unique()\n",
    "# calling the function\n",
    "res1,res2 = test(links=sm.links, trip_list=trip_list, constant=44)"
   ]
  },
  {
   "cell_type": "code",
   "execution_count": null,
   "id": "33013ef2",
   "metadata": {},
   "outputs": [],
   "source": []
  },
  {
   "cell_type": "code",
   "execution_count": 413,
   "id": "2cc2f381",
   "metadata": {},
   "outputs": [
    {
     "data": {
      "text/plain": [
       "2"
      ]
     },
     "execution_count": 413,
     "metadata": {},
     "output_type": "execute_result"
    }
   ],
   "source": [
    "res.shape[1]"
   ]
  },
  {
   "cell_type": "code",
   "execution_count": null,
   "id": "82f57d46",
   "metadata": {},
   "outputs": [],
   "source": []
  },
  {
   "cell_type": "code",
   "execution_count": null,
   "id": "17f30394",
   "metadata": {},
   "outputs": [],
   "source": []
  },
  {
   "cell_type": "code",
   "execution_count": null,
   "id": "cbdab250",
   "metadata": {},
   "outputs": [],
   "source": [
    "def plot_tasks(tasks,col=None,time_range=[],colors=['dodgerblue','tab:blue','cadetblue','darkturquoise','powderblue']):\n",
    "    # start_time, 'time','index'\n",
    "    import matplotlib.pyplot as plt\n",
    "    from matplotlib.lines import Line2D\n",
    "    from matplotlib.colors import ColorConverter\n",
    "    f, ax = plt.subplots(figsize=(15,12))\n",
    "    w=0.8\n",
    "    if 'index' not in tasks.columns:\n",
    "        tasks = tasks.reset_index()\n",
    "    if col:\n",
    "        tasks = tasks.sort_values(col)\n",
    "        line_ids = tasks[col].unique()\n",
    "        \n",
    "        for i,line_id in enumerate(tasks[col].unique()):\n",
    "            task = tasks[tasks[col]==line_id]\n",
    "            ax.barh(task['index'],task['time'],height=w , left=task['start_time'],color=colors[i])\n",
    "            \n",
    "        legend_elements = [Line2D([0], [0], color=colors[i], lw=4, label=line_ids[i]) for i in range(len(line_ids))]\n",
    "\n",
    "        ax.legend(handles=legend_elements,prop={\"size\":16})\n",
    "    else:\n",
    "        ax.barh(tasks['index'],tasks['time'],height=w , left=tasks['start_time'])\n",
    "            # y position (bus number) ,   #length (task duration),   height ,           x position (start_time)\n",
    "\n",
    "\n",
    "    plt.xlabel('time')\n",
    "    plt.ylabel('trip number')\n",
    "\n",
    "    ##### labels ####\n",
    "    if len(time_range)>0:\n",
    "        plt.axvline(x = time_range[0], color = 'r', label = 'axvline - full height')\n",
    "        plt.axvline(x = time_range[1], color = 'r', label = 'axvline - full height')\n",
    "\n",
    "\n",
    "    ##### TICKS #####\n",
    "    start_tick = int(np.floor(tasks['start_time'].min()/60/60)*60*60-60*60)\n",
    "    end_tick = int(np.ceil(tasks['end_time'].max()/60/60)*60*60)\n",
    "\n",
    "    xticks = np.arange(start_tick,end_tick,3600)\n",
    "    xticks_minor = np.arange(start_tick,end_tick,3600/2)\n",
    "\n",
    "    xticks_labels = xticks//3600\n",
    "    xticks_labels[xticks_labels>=24] = xticks_labels[xticks_labels>=24]-24\n",
    "    xticks_labels = [str(x)+'H00' for x in xticks_labels]\n",
    "\n",
    "\n",
    "    ax.set_xticks(xticks)\n",
    "    ax.set_xticks(xticks_minor, minor=True)\n",
    "    ax.set_xticklabels(xticks_labels)\n",
    "\n",
    "    plt.show()"
   ]
  },
  {
   "cell_type": "code",
   "execution_count": null,
   "id": "e4898843",
   "metadata": {},
   "outputs": [],
   "source": [
    "%%time\n",
    "time_range=['6:00:00', '9:59:00']\n",
    "feed = feeds[1].copy()\n",
    "feed = feed.restrict(['20190625'],time_range=time_range)\n",
    "res = feed.stop_times.groupby('trip_id')['departure_time'].agg(['first','last']).sort_values('first')\n",
    "res"
   ]
  },
  {
   "cell_type": "code",
   "execution_count": null,
   "id": "1b858ee2",
   "metadata": {},
   "outputs": [],
   "source": [
    "\n",
    "\n",
    "res['start_time']=res['first'].apply(lambda x : hhmmss_to_seconds_since_midnight(x))\n",
    "res['end_time']=res['last'].apply(lambda x : hhmmss_to_seconds_since_midnight(x))\n",
    "res['time'] = res['end_time'] - res['start_time']\n",
    "plot_tasks(res.reset_index(),time_range=[hhmmss_to_seconds_since_midnight(x) for x in time_range])"
   ]
  },
  {
   "cell_type": "code",
   "execution_count": null,
   "id": "55ea0650",
   "metadata": {},
   "outputs": [],
   "source": []
  },
  {
   "cell_type": "code",
   "execution_count": 133,
   "id": "44eda0f7",
   "metadata": {},
   "outputs": [],
   "source": [
    "self = feeds_t[0].copy()\n",
    "self.append_dist_to_shapes()"
   ]
  },
  {
   "cell_type": "code",
   "execution_count": 105,
   "id": "ee3178aa",
   "metadata": {},
   "outputs": [
    {
     "data": {
      "text/plain": [
       "[<quetzal.io.gtfs_reader.importer.GtfsImporter at 0x7ff81f2b7040>]"
      ]
     },
     "execution_count": 105,
     "metadata": {},
     "output_type": "execute_result"
    }
   ],
   "source": []
  },
  {
   "cell_type": "code",
   "execution_count": 106,
   "id": "4e78e8c4",
   "metadata": {},
   "outputs": [],
   "source": [
    "from pyproj import transform\n",
    "self = feeds_t[0].copy()\n",
    "epsg = importer.get_epsg(self.stops.iloc[1]['stop_lat'], self.stops.iloc[1]['stop_lon'])\n",
    "self.shapes['shape_pt_x'],self.shapes['shape_pt_y'] = transform(4326, epsg, self.shapes['shape_pt_lat'],self.shapes['shape_pt_lon'])\n",
    "#get distance between each points\n",
    "self.shapes = self.shapes.sort_values(['shape_id','shape_pt_sequence']).reset_index(drop=True)\n",
    "self.shapes['geom'] = self.shapes[['shape_pt_y','shape_pt_x']].apply(tuple,axis=1)\n",
    "self.shapes['previous_geom'] = self.shapes['geom'].shift(+1).fillna(method='bfill')\n",
    "\n",
    "\n",
    "self.shapes['dist'] = self.shapes[['previous_geom','geom']].apply(lambda x: importer.euclidean_distance(x[0],x[1]), axis=1)\n",
    "# cumsum the dist minus the first one (should be 0 but its not due to the batch operation)\n",
    "self.shapes['shape_dist_traveled'] = self.shapes.groupby('shape_id')['dist'].apply(importer.cumulative_minus_first)\n",
    "self.shapes = self.shapes.drop(columns=['shape_pt_x','shape_pt_y','geom','previous_geom','dist'])\n",
    "if self.dist_units == 'km':\n",
    "    self.shapes['shape_dist_traveled'] = self.shapes['shape_dist_traveled']/1000"
   ]
  },
  {
   "cell_type": "code",
   "execution_count": 112,
   "id": "0c3ea600",
   "metadata": {},
   "outputs": [
    {
     "data": {
      "text/html": [
       "<div>\n",
       "<style scoped>\n",
       "    .dataframe tbody tr th:only-of-type {\n",
       "        vertical-align: middle;\n",
       "    }\n",
       "\n",
       "    .dataframe tbody tr th {\n",
       "        vertical-align: top;\n",
       "    }\n",
       "\n",
       "    .dataframe thead th {\n",
       "        text-align: right;\n",
       "    }\n",
       "</style>\n",
       "<table border=\"1\" class=\"dataframe\">\n",
       "  <thead>\n",
       "    <tr style=\"text-align: right;\">\n",
       "      <th></th>\n",
       "      <th>shape_id</th>\n",
       "      <th>shape_pt_lat</th>\n",
       "      <th>shape_pt_lon</th>\n",
       "      <th>shape_pt_sequence</th>\n",
       "      <th>shape_dist_traveled</th>\n",
       "    </tr>\n",
       "  </thead>\n",
       "  <tbody>\n",
       "    <tr>\n",
       "      <th>0</th>\n",
       "      <td>396</td>\n",
       "      <td>48.39229</td>\n",
       "      <td>-77.24439</td>\n",
       "      <td>1</td>\n",
       "      <td>0.000000</td>\n",
       "    </tr>\n",
       "    <tr>\n",
       "      <th>1</th>\n",
       "      <td>396</td>\n",
       "      <td>48.39146</td>\n",
       "      <td>-77.24048</td>\n",
       "      <td>2</td>\n",
       "      <td>303.902648</td>\n",
       "    </tr>\n",
       "    <tr>\n",
       "      <th>2</th>\n",
       "      <td>396</td>\n",
       "      <td>48.39090</td>\n",
       "      <td>-77.23902</td>\n",
       "      <td>3</td>\n",
       "      <td>428.670935</td>\n",
       "    </tr>\n",
       "    <tr>\n",
       "      <th>3</th>\n",
       "      <td>396</td>\n",
       "      <td>48.39014</td>\n",
       "      <td>-77.23789</td>\n",
       "      <td>4</td>\n",
       "      <td>547.599337</td>\n",
       "    </tr>\n",
       "    <tr>\n",
       "      <th>4</th>\n",
       "      <td>396</td>\n",
       "      <td>48.38935</td>\n",
       "      <td>-77.23723</td>\n",
       "      <td>5</td>\n",
       "      <td>648.123082</td>\n",
       "    </tr>\n",
       "    <tr>\n",
       "      <th>...</th>\n",
       "      <td>...</td>\n",
       "      <td>...</td>\n",
       "      <td>...</td>\n",
       "      <td>...</td>\n",
       "      <td>...</td>\n",
       "    </tr>\n",
       "    <tr>\n",
       "      <th>13824</th>\n",
       "      <td>554</td>\n",
       "      <td>45.44828</td>\n",
       "      <td>-73.73928</td>\n",
       "      <td>65</td>\n",
       "      <td>4875.375400</td>\n",
       "    </tr>\n",
       "    <tr>\n",
       "      <th>13825</th>\n",
       "      <td>554</td>\n",
       "      <td>45.44855</td>\n",
       "      <td>-73.74083</td>\n",
       "      <td>66</td>\n",
       "      <td>5000.253877</td>\n",
       "    </tr>\n",
       "    <tr>\n",
       "      <th>13826</th>\n",
       "      <td>554</td>\n",
       "      <td>45.44865</td>\n",
       "      <td>-73.74096</td>\n",
       "      <td>67</td>\n",
       "      <td>5015.314400</td>\n",
       "    </tr>\n",
       "    <tr>\n",
       "      <th>13827</th>\n",
       "      <td>554</td>\n",
       "      <td>45.44866</td>\n",
       "      <td>-73.74127</td>\n",
       "      <td>68</td>\n",
       "      <td>5039.584048</td>\n",
       "    </tr>\n",
       "    <tr>\n",
       "      <th>13828</th>\n",
       "      <td>554</td>\n",
       "      <td>45.44889</td>\n",
       "      <td>-73.74127</td>\n",
       "      <td>69</td>\n",
       "      <td>5065.139194</td>\n",
       "    </tr>\n",
       "  </tbody>\n",
       "</table>\n",
       "<p>13829 rows × 5 columns</p>\n",
       "</div>"
      ],
      "text/plain": [
       "      shape_id  shape_pt_lat  shape_pt_lon  shape_pt_sequence  \\\n",
       "0          396      48.39229     -77.24439                  1   \n",
       "1          396      48.39146     -77.24048                  2   \n",
       "2          396      48.39090     -77.23902                  3   \n",
       "3          396      48.39014     -77.23789                  4   \n",
       "4          396      48.38935     -77.23723                  5   \n",
       "...        ...           ...           ...                ...   \n",
       "13824      554      45.44828     -73.73928                 65   \n",
       "13825      554      45.44855     -73.74083                 66   \n",
       "13826      554      45.44865     -73.74096                 67   \n",
       "13827      554      45.44866     -73.74127                 68   \n",
       "13828      554      45.44889     -73.74127                 69   \n",
       "\n",
       "       shape_dist_traveled  \n",
       "0                 0.000000  \n",
       "1               303.902648  \n",
       "2               428.670935  \n",
       "3               547.599337  \n",
       "4               648.123082  \n",
       "...                    ...  \n",
       "13824          4875.375400  \n",
       "13825          5000.253877  \n",
       "13826          5015.314400  \n",
       "13827          5039.584048  \n",
       "13828          5065.139194  \n",
       "\n",
       "[13829 rows x 5 columns]"
      ]
     },
     "execution_count": 112,
     "metadata": {},
     "output_type": "execute_result"
    }
   ],
   "source": [
    "self.shapes.dropna()"
   ]
  },
  {
   "cell_type": "code",
   "execution_count": 134,
   "id": "112c7efe",
   "metadata": {},
   "outputs": [
    {
     "data": {
      "text/html": [
       "<div>\n",
       "<style scoped>\n",
       "    .dataframe tbody tr th:only-of-type {\n",
       "        vertical-align: middle;\n",
       "    }\n",
       "\n",
       "    .dataframe tbody tr th {\n",
       "        vertical-align: top;\n",
       "    }\n",
       "\n",
       "    .dataframe thead th {\n",
       "        text-align: right;\n",
       "    }\n",
       "</style>\n",
       "<table border=\"1\" class=\"dataframe\">\n",
       "  <thead>\n",
       "    <tr style=\"text-align: right;\">\n",
       "      <th></th>\n",
       "      <th>shape_id</th>\n",
       "      <th>shape_pt_lat</th>\n",
       "      <th>shape_pt_lon</th>\n",
       "      <th>shape_pt_sequence</th>\n",
       "      <th>shape_dist_traveled</th>\n",
       "    </tr>\n",
       "  </thead>\n",
       "  <tbody>\n",
       "  </tbody>\n",
       "</table>\n",
       "</div>"
      ],
      "text/plain": [
       "Empty DataFrame\n",
       "Columns: [shape_id, shape_pt_lat, shape_pt_lon, shape_pt_sequence, shape_dist_traveled]\n",
       "Index: []"
      ]
     },
     "execution_count": 134,
     "metadata": {},
     "output_type": "execute_result"
    }
   ],
   "source": [
    "self.shapes[self.shapes['shape_dist_traveled'].isnull()]"
   ]
  },
  {
   "cell_type": "code",
   "execution_count": 115,
   "id": "11c2ded5",
   "metadata": {},
   "outputs": [],
   "source": [
    "files=['https://storage.googleapis.com/storage/v1/b/mdb-latest/o/ca-quebec-reseau-de-transport-de-la-capitale-gtfs-757.zip?alt=media'] \n",
    "start_time='6:00:00' \n",
    "end_time='8:59:00' \n",
    "day='tuesday' \n",
    "dates=[]\n",
    "\n",
    "DAY_DICT = {\n",
    "    'monday': 0,\n",
    "    'tuesday': 1,\n",
    "    'wednesday': 2,\n",
    "    'thursday': 3,\n",
    "    'friday': 4,\n",
    "    'saturday': 5,\n",
    "    'sunday': 6\n",
    "}"
   ]
  },
  {
   "cell_type": "code",
   "execution_count": 117,
   "id": "6609a6c6",
   "metadata": {},
   "outputs": [
    {
     "name": "stdout",
     "output_type": "stream",
     "text": [
      "Importing https://storage.googleapis.com/storage/v1/b/mdb-latest/o/ca-quebec-reseau-de-transport-de-la-capitale-gtfs-757.zip?alt=media\n",
      "cleaning  https://storage.googleapis.com/storage/v1/b/mdb-latest/o/ca-quebec-reseau-de-transport-de-la-capitale-gtfs-757.zip?alt=media\n",
      "parent_station missing in stops. set to NaN in https://storage.googleapis.com/storage/v1/b/mdb-latest/o/ca-quebec-reseau-de-transport-de-la-capitale-gtfs-757.zip?alt=media\n"
     ]
    }
   ],
   "source": [
    "\n",
    "\n",
    "selected_day = DAY_DICT[day]\n",
    "time_range = [start_time,end_time]\n",
    "\n",
    "\n",
    "feeds=[]\n",
    "for file in files:\n",
    "    print('Importing {f}'.format(f=file))\n",
    "    feeds.append(importer.GtfsImporter(path=file, dist_units='m'))\n",
    "\n",
    "\n",
    "for i in range(len(feeds)):\n",
    "    print('cleaning ', files[i])\n",
    "    if 'agency_id' not in feeds[i].routes:\n",
    "        print(f'add agency_id to routes in {files[i]}')\n",
    "        feeds[i].routes['agency_id'] = feeds[i].agency['agency_id'].values[0]\n",
    "\n",
    "    if 'pickup_type' not in feeds[i].stop_times:\n",
    "        print(f'pickup_type missing in stop_times. set to 0 in {files[i]}')\n",
    "        feeds[i].stop_times['pickup_type'] = 0\n",
    "\n",
    "    if 'drop_off_type' not in feeds[i].stop_times:\n",
    "        print(f'drop_off_type missing in stop_times. set to 0 in {files[i]}')\n",
    "        feeds[i].stop_times['drop_off_type'] = 0\n",
    "\n",
    "    if 'parent_station' not in feeds[i].stops:\n",
    "        print(f'parent_station missing in stops. set to NaN in {files[i]}')\n",
    "        feeds[i].stops['parent_station'] = np.nan\n",
    "    feeds[i].stop_times['pickup_type'].fillna(0, inplace=True)\n",
    "    feeds[i].stop_times['drop_off_type'].fillna(0, inplace=True)\n",
    "\n",
    "    feeds[i].stop_times['arrival_time'] = feeds[i].stop_times['departure_time']\n",
    "\n",
    "# if dates is not provided as inputs.\n",
    "# get it from first dates of each GTFS\n",
    "if len(dates)==0:\n",
    "    for feed in feeds:\n",
    "        try:\n",
    "            min_date = feed.calendar['start_date'].unique().min()\n",
    "            max_date = feed.calendar['end_date'].unique().max()\n",
    "        except:\n",
    "            min_date = feed.calendar_dates['date'].unique().min()\n",
    "            max_date = feed.calendar_dates['date'].unique().max()\n",
    "\n",
    "        # get date range \n",
    "        s = pd.date_range(min_date, max_date, freq='D').to_series()\n",
    "        try:\n",
    "            # get dayofweek selected and take first one\n",
    "            s = s[s.dt.dayofweek==selected_day][0]\n",
    "            # format  ex: ['20231011'] and append\n",
    "            dates.append(f'{s.year}{str(s.month).zfill(2)}{str(s.day).zfill(2)}')\n",
    "        except:\n",
    "            print('date not available. use', min_date)\n",
    "            dates.append(min_date)\n",
    "\n",
    "\n"
   ]
  },
  {
   "cell_type": "code",
   "execution_count": 119,
   "id": "b0ac1d71",
   "metadata": {},
   "outputs": [
    {
     "data": {
      "text/plain": [
       "['20231107']"
      ]
     },
     "execution_count": 119,
     "metadata": {},
     "output_type": "execute_result"
    }
   ],
   "source": [
    "dates"
   ]
  },
  {
   "cell_type": "code",
   "execution_count": 120,
   "id": "3e0e5f46",
   "metadata": {},
   "outputs": [
    {
     "name": "stdout",
     "output_type": "stream",
     "text": [
      "restrict feed\n"
     ]
    }
   ],
   "source": [
    "feeds_t = []\n",
    "print('restrict feed')\n",
    "for i, feed in enumerate(feeds):\n",
    "    feed_t = feed.restrict(dates=[dates[i]], time_range=time_range)\n",
    "    #if len(feed_t.trips) > 0:\n",
    "    feeds_t.append(feed_t)"
   ]
  },
  {
   "cell_type": "code",
   "execution_count": 121,
   "id": "626b8d8f",
   "metadata": {},
   "outputs": [
    {
     "data": {
      "text/plain": [
       "['20231107']"
      ]
     },
     "execution_count": 121,
     "metadata": {},
     "output_type": "execute_result"
    }
   ],
   "source": [
    "dates"
   ]
  },
  {
   "cell_type": "code",
   "execution_count": 122,
   "id": "155e65e9",
   "metadata": {},
   "outputs": [
    {
     "name": "stdout",
     "output_type": "stream",
     "text": [
      "restrict feed\n",
      "add shape_dist_traveled to shapes\n",
      "add shape_dist_traveled to stop_times\n",
      "convert to meter if necessary\n",
      "Building links and nodes  https://storage.googleapis.com/storage/v1/b/mdb-latest/o/ca-quebec-reseau-de-transport-de-la-capitale-gtfs-757.zip?alt=media\n"
     ]
    }
   ],
   "source": [
    "feeds_t = []\n",
    "print('restrict feed')\n",
    "for i, feed in enumerate(feeds):\n",
    "    feed_t = feed.restrict(dates=[dates[i]], time_range=time_range)\n",
    "    if len(feed_t.trips) > 0:\n",
    "        feeds_t.append(feed_t)\n",
    "#del feeds\n",
    "print('add shape_dist_traveled to shapes')\n",
    "for feed in feeds_t:\n",
    "    if 'shape_dist_traveled' not in feed.shapes.columns:\n",
    "        feed.append_dist_to_shapes()\n",
    "    elif any(feed.shapes['shape_dist_traveled'].isnull()):\n",
    "        feed.append_dist_to_shapes()\n",
    "\n",
    "print('add shape_dist_traveled to stop_times')\n",
    "for feed in feeds_t:\n",
    "    if 'shape_dist_traveled' not in feed.stop_times.columns:\n",
    "        feed.append_dist_to_stop_times_fast()\n",
    "    else:\n",
    "        nan_sequence=feed.stop_times[feed.stop_times['shape_dist_traveled'].isnull()]['stop_sequence'].unique()\n",
    "        # if there but all nan are at seq=1. just fill wwith 0.\n",
    "        if all(seq==1 for seq in nan_sequence):\n",
    "            feed.stop_times['shape_dist_traveled'] = feed.stop_times['shape_dist_traveled'].fillna(0)\n",
    "        else:\n",
    "            feed.append_dist_to_stop_times_fast()\n",
    "print('convert to meter if necessary')\n",
    "for feed in feeds_t:\n",
    "    if feed.stop_times['shape_dist_traveled'].max() < 100:\n",
    "            print(f'convert to meters')\n",
    "            feed.dist_units = 'km'\n",
    "            feed = gtk.convert_dist(feed, new_dist_units='m')\n",
    "\n",
    "feeds_frequencies = []\n",
    "for i in range(len(feeds_t)):\n",
    "    print('Building links and nodes ', files[i])\n",
    "    feed_s = feeds_t[i].copy()\n",
    "    feed_s.group_services()\n",
    "\n",
    "    feed_s.build_stop_clusters(distance_threshold=50)\n",
    "    feed_s.build_patterns(on='cluster_id')\n",
    "\n",
    "    feed_frequencies = feed_s.convert_to_frequencies(time_range=time_range)\n",
    "    shapes = feed_frequencies.shapes is not None\n",
    "    feed_frequencies.build_links_and_nodes(log=False, \n",
    "                                        shape_dist_traveled=True, \n",
    "                                        from_shape=shapes, \n",
    "                                        stick_nodes_on_links=shapes,\n",
    "                                        keep_origin_columns=['departure_time','pickup_type'],\n",
    "                                        keep_destination_columns=['arrival_time','drop_off_type'],\n",
    "                                        num_cores=4)\n",
    "    feeds_frequencies.append(feed_frequencies)\n"
   ]
  },
  {
   "cell_type": "code",
   "execution_count": 123,
   "id": "9b06dfec",
   "metadata": {},
   "outputs": [],
   "source": [
    "#del feeds_t\n",
    "mapping = {0:'tram', 1:'subway', 2:'rail', 3:'bus',4:'ferry',5:'cable_car',6:'gondola',7:'funicular', 700:'bus', 1501:'taxi'}\n",
    "retire = ['taxi']\n",
    "for feed_frequencies in feeds_frequencies:\n",
    "    feed_frequencies.links['route_type'] = feed_frequencies.links['route_type'].apply(\n",
    "        lambda t: mapping.get(t, np.nan)\n",
    "    )\n",
    "\n",
    "    assert not any(feed_frequencies.links['route_type'].isna())\n",
    "    feed_frequencies.links = feed_frequencies.links[~feed_frequencies.links['route_type'].isin(retire)]\n",
    "\n",
    "for feed_frequencies in feeds_frequencies:\n",
    "    feed_frequencies.links.loc[feed_frequencies.links['time'] == 0,'time'] = 1.0\n",
    "\n",
    "\n",
    "\n",
    "columns=['trip_id','route_id','agency_id','direction_id','a','b', 'shape_dist_traveled',\n",
    "                                    'link_sequence','time','headway','pickup_type', 'drop_off_type',\n",
    "                                    'route_short_name','route_type','route_color','geometry']\n",
    "\n",
    "\n",
    "sm = stepmodel.StepModel(epsg=4326, coordinates_unit='meter')\n",
    "\n",
    "links_concat = []; nodes_concat = []\n",
    "for feed_frequencies in feeds_frequencies:\n",
    "    links_concat.append(feed_frequencies.links)\n",
    "    nodes_concat.append(feed_frequencies.nodes)"
   ]
  },
  {
   "cell_type": "code",
   "execution_count": null,
   "id": "b329c24a",
   "metadata": {},
   "outputs": [],
   "source": []
  },
  {
   "cell_type": "code",
   "execution_count": null,
   "id": "8a7601e6",
   "metadata": {},
   "outputs": [],
   "source": []
  },
  {
   "cell_type": "code",
   "execution_count": 124,
   "id": "111df91c",
   "metadata": {},
   "outputs": [
    {
     "data": {
      "text/plain": [
       "[<quetzal.io.gtfs_reader.importer.GtfsImporter at 0x7f1751d66cd0>]"
      ]
     },
     "execution_count": 124,
     "metadata": {},
     "output_type": "execute_result"
    }
   ],
   "source": [
    "feeds_frequencies"
   ]
  },
  {
   "cell_type": "code",
   "execution_count": null,
   "id": "ba8d72c8",
   "metadata": {},
   "outputs": [],
   "source": []
  },
  {
   "cell_type": "code",
   "execution_count": 66,
   "id": "26b2c825",
   "metadata": {},
   "outputs": [
    {
     "name": "stdout",
     "output_type": "stream",
     "text": [
      "Importing https://storage.googleapis.com/storage/v1/b/mdb-latest/o/ca-quebec-reseau-de-transport-de-la-capitale-gtfs-757.zip?alt=media\n",
      "cleaning  https://storage.googleapis.com/storage/v1/b/mdb-latest/o/ca-quebec-reseau-de-transport-de-la-capitale-gtfs-757.zip?alt=media\n",
      "parent_station missing in stops. set to NaN in https://storage.googleapis.com/storage/v1/b/mdb-latest/o/ca-quebec-reseau-de-transport-de-la-capitale-gtfs-757.zip?alt=media\n",
      "restrict feed\n",
      "add shape_dist_traveled to shapes\n",
      "add shape_dist_traveled to stop_times\n",
      "convert to meter if necessary\n"
     ]
    },
    {
     "ename": "SyntaxError",
     "evalue": "'return' outside function (1528547802.py, line 141)",
     "output_type": "error",
     "traceback": [
      "\u001b[0;36m  Cell \u001b[0;32mIn[66], line 141\u001b[0;36m\u001b[0m\n\u001b[0;31m    return\u001b[0m\n\u001b[0m    ^\u001b[0m\n\u001b[0;31mSyntaxError\u001b[0m\u001b[0;31m:\u001b[0m 'return' outside function\n"
     ]
    }
   ],
   "source": [
    "\n",
    "\n",
    "# nothing to export. export empty geojson\n",
    "if len(links_concat) == 0:\n",
    "    links = gpd.GeoDataFrame(columns=['feature'], geometry='feature',crs=4326)\n",
    "    nodes = gpd.GeoDataFrame(columns=['feature'], geometry='feature',crs=4326)\n",
    "    return\n",
    "\n",
    "sm.links = pd.concat(links_concat)\n",
    "for col in columns:\n",
    "    if col not in sm.links.columns:\n",
    "        sm.links[col] = np.nan\n",
    "\n",
    "sm.links = sm.links[columns]\n",
    "sm.nodes = pd.concat(nodes_concat)[['stop_id','stop_name','stop_code','geometry']]\n",
    "\n",
    "sm.nodes = sm.nodes.reset_index(drop=True).sort_index()\n",
    "sm.links = sm.links.reset_index(drop=True).sort_index()\n",
    "\n",
    "\n",
    "sm.nodes.loc[sm.nodes['stop_code'].isna(),'stop_code'] = sm.nodes.loc[sm.nodes['stop_code'].isna(),'stop_id'] \n",
    "sm.nodes.drop_duplicates(subset=['stop_id'], inplace=True)\n",
    "\n",
    "sm.links['trip_id'] = sm.links['agency_id'] +'_' +sm.links['trip_id']\n",
    "sm.links['route_id'] = sm.links['agency_id'] +'_' +sm.links['route_id']\n",
    "\n",
    "sm.links = sm.links.sort_values(['route_type','trip_id']).reset_index(drop=True)\n",
    "\n",
    "dnodes = ('node_' +sm.nodes.reset_index().set_index('stop_id')['index'].astype(str)).to_dict()\n",
    "sm.nodes.index = 'node_' +sm.nodes.index.astype(str)\n",
    "\n",
    "sm.links.index = 'link_' +sm.links.index.astype(str)\n",
    "\n",
    "sm.links['a'] = sm.links['a'].apply(lambda a: dnodes.get(a))\n",
    "sm.links['b'] = sm.links['b'].apply(lambda a: dnodes.get(a))\n",
    "\n",
    "sm.links.drop_duplicates(subset=['trip_id','link_sequence'], inplace=True)\n",
    "\n",
    "# Tag route with only one trip\n",
    "time_slot = np.diff([hhmmss_to_seconds_since_midnight(time) for time in time_range])[0]\n",
    "sm.links.loc[(time_slot/sm.links['headway']) < 2.0, 'headway'] = np.nan\n",
    "\n",
    "sm.links = sm.links.to_crs(4326)\n",
    "sm.nodes = sm.nodes.to_crs(4326)"
   ]
  },
  {
   "cell_type": "code",
   "execution_count": 72,
   "id": "4b9b6644",
   "metadata": {},
   "outputs": [],
   "source": [
    "pd.read_csv('route_type.csv').set_index('a')['b'].to_json('route_type.json')"
   ]
  },
  {
   "cell_type": "code",
   "execution_count": 80,
   "id": "c43e37b2",
   "metadata": {},
   "outputs": [
    {
     "data": {
      "text/plain": [
       "a     int64\n",
       "b    object\n",
       "dtype: object"
      ]
     },
     "execution_count": 80,
     "metadata": {},
     "output_type": "execute_result"
    }
   ],
   "source": [
    "df = pd.read_csv('route_type.csv')\n",
    "df.dtypes"
   ]
  },
  {
   "cell_type": "code",
   "execution_count": null,
   "id": "3ce524d5",
   "metadata": {},
   "outputs": [],
   "source": []
  },
  {
   "cell_type": "code",
   "execution_count": 74,
   "id": "cf15e637",
   "metadata": {},
   "outputs": [],
   "source": [
    "import json\n",
    "with open('route_type.json') as file:\n",
    "    data = json.load(file)"
   ]
  },
  {
   "cell_type": "code",
   "execution_count": 75,
   "id": "3b70cf62",
   "metadata": {},
   "outputs": [
    {
     "data": {
      "text/plain": [
       "{'100': 'Railway Service ',\n",
       " '101': 'High Speed Rail Service ',\n",
       " '102': 'Long Distance Trains ',\n",
       " '103': 'Inter Regional Rail Service ',\n",
       " '104': 'Car Transport Rail Service ',\n",
       " '105': 'Sleeper Rail Service ',\n",
       " '106': 'Regional Rail Service ',\n",
       " '107': 'Tourist Railway Service ',\n",
       " '108': 'Rail Shuttle (Within Complex) ',\n",
       " '109': 'Suburban Railway ',\n",
       " '110': 'Replacement Rail Service ',\n",
       " '111': 'Special Rail Service ',\n",
       " '112': 'Lorry Transport Rail Service ',\n",
       " '113': 'All Rail Services ',\n",
       " '114': 'Cross-Country Rail Service ',\n",
       " '115': 'Vehicle Transport Rail Service ',\n",
       " '116': 'Rack and Pinion Railway ',\n",
       " '117': 'Additional Rail Service ',\n",
       " '200': 'Coach Service ',\n",
       " '201': 'International Coach Service ',\n",
       " '202': 'National Coach Service ',\n",
       " '203': 'Shuttle Coach Service ',\n",
       " '204': 'Regional Coach Service ',\n",
       " '205': 'Special Coach Service ',\n",
       " '206': 'Sightseeing Coach Service ',\n",
       " '207': 'Tourist Coach Service ',\n",
       " '208': 'Commuter Coach Service ',\n",
       " '209': 'All Coach Services ',\n",
       " '400': 'Urban Railway Service ',\n",
       " '401': 'Metro Service ',\n",
       " '402': 'Underground Service ',\n",
       " '403': 'Urban Railway Service ',\n",
       " '404': 'All Urban Railway Services ',\n",
       " '405': 'Monorail ',\n",
       " '700': 'Bus Service ',\n",
       " '701': 'Regional Bus Service ',\n",
       " '702': 'Express Bus Service ',\n",
       " '703': 'Stopping Bus Service ',\n",
       " '704': 'Local Bus Service ',\n",
       " '705': 'Night Bus Service ',\n",
       " '706': 'Post Bus Service ',\n",
       " '707': 'Special Needs Bus ',\n",
       " '708': 'Mobility Bus Service ',\n",
       " '709': 'Mobility Bus for Registered Disabled ',\n",
       " '710': 'Sightseeing Bus ',\n",
       " '711': 'Shuttle Bus ',\n",
       " '712': 'School Bus ',\n",
       " '713': 'School and Public Service Bus ',\n",
       " '714': 'Rail Replacement Bus Service ',\n",
       " '715': 'Demand and Response Bus Service ',\n",
       " '716': 'All Bus Services ',\n",
       " '800': 'Trolleybus Service ',\n",
       " '900': 'Tram Service ',\n",
       " '901': 'City Tram Service ',\n",
       " '902': 'Local Tram Service ',\n",
       " '903': 'Regional Tram Service ',\n",
       " '904': 'Sightseeing Tram Service ',\n",
       " '905': 'Shuttle Tram Service ',\n",
       " '906': 'All Tram Services ',\n",
       " '1000': 'Water Transport Service ',\n",
       " '1100': 'Air Service ',\n",
       " '1200': 'Ferry Service ',\n",
       " '1300': 'Aerial Lift Service ',\n",
       " '1301': 'Telecabin Service ',\n",
       " '1302': 'Cable Car Service ',\n",
       " '1303': 'Elevator Service ',\n",
       " '1304': 'Chair Lift Service ',\n",
       " '1305': 'Drag Lift Service ',\n",
       " '1306': 'Small Telecabin Service ',\n",
       " '1307': 'All Telecabin Services ',\n",
       " '1400': 'Funicular Service ',\n",
       " '1500': 'Taxi Service ',\n",
       " '1501': 'Communal Taxi Service ',\n",
       " '1502': 'Water Taxi Service ',\n",
       " '1503': 'Rail Taxi Service ',\n",
       " '1504': 'Bike Taxi Service ',\n",
       " '1505': 'Licensed Taxi Service ',\n",
       " '1506': 'Private Hire Service Vehicle ',\n",
       " '1507': 'All Taxi Services ',\n",
       " '1700': 'Miscellaneous Service ',\n",
       " '1702': 'Horse-drawn Carriage '}"
      ]
     },
     "execution_count": 75,
     "metadata": {},
     "output_type": "execute_result"
    }
   ],
   "source": [
    "data"
   ]
  },
  {
   "cell_type": "code",
   "execution_count": null,
   "id": "d643ea10",
   "metadata": {},
   "outputs": [],
   "source": []
  }
 ],
 "metadata": {
  "kernelspec": {
   "display_name": "quetzal_env",
   "language": "python",
   "name": "quetzal_env"
  },
  "language_info": {
   "codemirror_mode": {
    "name": "ipython",
    "version": 3
   },
   "file_extension": ".py",
   "mimetype": "text/x-python",
   "name": "python",
   "nbconvert_exporter": "python",
   "pygments_lexer": "ipython3",
   "version": "3.8.6"
  }
 },
 "nbformat": 4,
 "nbformat_minor": 5
}
