{
 "cells": [
  {
   "cell_type": "code",
   "execution_count": 83,
   "id": "92935c59",
   "metadata": {},
   "outputs": [
    {
     "name": "stdout",
     "output_type": "stream",
     "text": [
      "{'params': {'uuid': 'test'}, 'num_cores': 6, 'exec_id': 0}\n"
     ]
    }
   ],
   "source": [
    "import os\n",
    "import sys\n",
    "import json\n",
    "params = {'uuid':'test'}\n",
    "default = { 'params': params, 'num_cores':6,'exec_id':0} # Default execution parameters\n",
    "manual, argv = (True, default) if 'ipykernel' in sys.argv[0] else (False, dict(default, **json.loads(sys.argv[1])))\n",
    "print(argv)\n"
   ]
  },
  {
   "cell_type": "code",
   "execution_count": 84,
   "id": "4b93838e",
   "metadata": {},
   "outputs": [],
   "source": [
    "def _reverse_geom(geom):\n",
    "    def _reverse(x, y, z=None):\n",
    "        if z:\n",
    "            return x[::-1], y[::-1], z[::-1]\n",
    "        return x[::-1], y[::-1]\n",
    "    return transform(_reverse, geom) \n",
    "\n",
    "def split_quenedi_rlinks(road_links, oneway='0'):\n",
    "    if 'oneway' not in road_links.columns:\n",
    "        print('no column oneway. do not split')\n",
    "        return\n",
    "    links_r = road_links[road_links['oneway']==oneway].copy()\n",
    "    if len(links_r) == 0:\n",
    "        print('all oneway, nothing to split')\n",
    "        return\n",
    "    # apply _r features to the normal non r features\n",
    "    r_cols = [col for col in links_r.columns if col.endswith('_r')]\n",
    "    cols = [col[:-2] for col in r_cols]\n",
    "    for col, r_col in zip(cols, r_cols):\n",
    "        links_r[col] = links_r[r_col]\n",
    "    # reindex with _r \n",
    "    links_r.index = links_r.index.astype(str) + '_r'\n",
    "    # reverse links (a=>b, b=>a)\n",
    "    links_r = links_r.rename(columns={'a': 'b', 'b': 'a'})\n",
    "    links_r['geometry'] = links_r['geometry'].apply(lambda g: _reverse_geom(g))\n",
    "    road_links = pd.concat([road_links, links_r])\n",
    "    return road_links\n"
   ]
  },
  {
   "cell_type": "code",
   "execution_count": 85,
   "id": "0a52822f",
   "metadata": {},
   "outputs": [],
   "source": [
    "sys.path.insert(0, r'../../../')\n",
    "import geopandas as gpd\n",
    "import pandas as pd\n",
    "from shapely.geometry import LineString\n",
    "from quetzal.engine.add_network_mapmatching import duplicate_nodes\n",
    "from quetzal.model import stepmodel\n",
    "from pydantic import BaseModel\n",
    "from typing import  Optional\n",
    "from quetzal.io.gtfs_reader.importer import get_epsg\n",
    "from  shapely.ops import transform\n",
    "on_lambda = bool(os.environ.get('AWS_EXECUTION_ENV'))\n",
    "bucket_name = os.environ.get('BUCKET_NAME')\n",
    "num_cores = argv.get('num_cores',1)"
   ]
  },
  {
   "cell_type": "code",
   "execution_count": 86,
   "id": "cfcb097b",
   "metadata": {},
   "outputs": [
    {
     "data": {
      "text/plain": [
       "0"
      ]
     },
     "execution_count": 86,
     "metadata": {},
     "output_type": "execute_result"
    }
   ],
   "source": [
    "exec_id = argv['exec_id']\n",
    "uuid = argv['params'].get('uuid')\n",
    "exec_id"
   ]
  },
  {
   "cell_type": "code",
   "execution_count": 92,
   "id": "e371045d",
   "metadata": {},
   "outputs": [],
   "source": [
    "basepath = f's3://{bucket_name}/{uuid}/' if on_lambda else '../test/'"
   ]
  },
  {
   "cell_type": "code",
   "execution_count": 93,
   "id": "773f26b2",
   "metadata": {},
   "outputs": [],
   "source": [
    "links = gpd.read_file(os.path.join(basepath,'parallel',f'links_{exec_id}.geojson'),engine='pyogrio')\n",
    "links.set_index('index',inplace=True)\n",
    "nodes = gpd.read_file(os.path.join(basepath,'parallel',f'nodes_{exec_id}.geojson'),engine='pyogrio')\n",
    "nodes.set_index('index',inplace=True)"
   ]
  },
  {
   "cell_type": "code",
   "execution_count": 94,
   "id": "70e7d6ac",
   "metadata": {},
   "outputs": [],
   "source": [
    "road_links = gpd.read_file(os.path.join(basepath,'road_links.geojson'), engine='pyogrio')\n",
    "road_links.set_index('index',inplace=True)\n",
    "road_nodes = gpd.read_file(os.path.join(basepath,'road_nodes.geojson'), engine='pyogrio')\n",
    "road_nodes.set_index('index',inplace=True)"
   ]
  },
  {
   "cell_type": "code",
   "execution_count": null,
   "id": "77f17a5d",
   "metadata": {},
   "outputs": [],
   "source": []
  },
  {
   "cell_type": "code",
   "execution_count": 95,
   "id": "26de4146",
   "metadata": {},
   "outputs": [
    {
     "name": "stdout",
     "output_type": "stream",
     "text": [
      "split rlinks to oneways\n"
     ]
    }
   ],
   "source": [
    "print('split rlinks to oneways')\n",
    "road_links = split_quenedi_rlinks(road_links)\n",
    "\n",
    "\n",
    "# if already mapmatched. remove road_links_list (will be redone here)\n",
    "if 'road_link_list' in  links.columns:\n",
    "    print('remove road_links_list')\n",
    "    links = links.drop(columns = ['road_link_list'])\n",
    "\n",
    "sm = stepmodel.StepModel(epsg=4326)\n",
    "sm.links = links\n",
    "sm.nodes = nodes\n",
    "sm.road_links = road_links\n",
    "sm.road_nodes = road_nodes"
   ]
  },
  {
   "cell_type": "code",
   "execution_count": 96,
   "id": "719e5692",
   "metadata": {},
   "outputs": [
    {
     "name": "stderr",
     "output_type": "stream",
     "text": [
      "Reprojecting model from epsg 4326 to epsg 32618: 100%|█| 10/10 [00:03<00:00,  3.\n"
     ]
    }
   ],
   "source": [
    "centroid = [*LineString(sm.nodes.centroid.values).centroid.coords][0]\n",
    "crs = get_epsg(centroid[1],centroid[0])\n",
    "\n",
    "sm = sm.change_epsg(crs,coordinates_unit='meter')"
   ]
  },
  {
   "cell_type": "code",
   "execution_count": null,
   "id": "4b870dea",
   "metadata": {},
   "outputs": [],
   "source": []
  },
  {
   "cell_type": "code",
   "execution_count": 97,
   "id": "1279fcf1",
   "metadata": {
    "scrolled": false
   },
   "outputs": [
    {
     "name": "stdout",
     "output_type": "stream",
     "text": [
      "overwrite nodes: make sure nodes are not shared between trips\n",
      "0 / 17\n",
      "0 / 17\n",
      "0 / 17\n",
      "0 / 17\n",
      "0 / 17\n",
      "0 / 17\n",
      "0 / 2\n",
      "2 / 2\n",
      "5 / 17\n",
      "5 / 17\n",
      "5 / 17\n",
      "5 / 17\n",
      "5 / 17\n",
      "10 / 17\n",
      "10 / 17\n",
      "10 / 17\n",
      "10 / 17\n",
      "10 / 17\n",
      "15 / 17\n",
      "5 / 17\n",
      "15 / 17\n",
      "17 / 17\n",
      "15 / 17\n",
      "15 / 17\n",
      "15 / 17\n",
      "17 / 17\n",
      "17 / 17\n",
      "17 / 17\n",
      "17 / 17\n",
      "10 / 17\n",
      "15 / 17\n",
      "17 / 17\n"
     ]
    }
   ],
   "source": [
    "sm.preparation_map_matching(sequence='link_sequence',\n",
    "                            by='trip_id',\n",
    "                            routing=True,\n",
    "                            n_neighbors_centroid=100,\n",
    "                            n_neighbors=25,\n",
    "                            distance_max=3000,\n",
    "                            overwrite_geom=True,\n",
    "                            overwrite_nodes=True,\n",
    "                            num_cores=num_cores)"
   ]
  },
  {
   "cell_type": "code",
   "execution_count": 116,
   "id": "c5ea8864",
   "metadata": {},
   "outputs": [],
   "source": [
    "sm.nodes = sm.nodes.to_crs(4326)\n",
    "sm.links = sm.links.to_crs(4326)\n",
    "\n",
    "sm.links = sm.links.drop(columns=['road_a','road_b','offset_b','road_node_list'])\n",
    "sm.links['road_link_list'] = sm.links['road_link_list'].fillna('[]')\n",
    "sm.links['road_link_list'] = sm.links['road_link_list'].astype(str)\n",
    "\n",
    "sm.links.to_file(os.path.join(basepath, 'parallel', f'links_{exec_id}.geojson'), driver='GeoJSON')\n",
    "sm.nodes.to_file(os.path.join(basepath, 'parallel', f'nodes_{exec_id}.geojson'), driver='GeoJSON')"
   ]
  },
  {
   "cell_type": "code",
   "execution_count": null,
   "id": "8d5eccd9",
   "metadata": {},
   "outputs": [],
   "source": []
  },
  {
   "cell_type": "code",
   "execution_count": null,
   "id": "8d9ab98f",
   "metadata": {},
   "outputs": [],
   "source": []
  },
  {
   "cell_type": "code",
   "execution_count": null,
   "id": "e2cd1e8d",
   "metadata": {},
   "outputs": [],
   "source": []
  }
 ],
 "metadata": {
  "kernelspec": {
   "display_name": "quetzal_env",
   "language": "python",
   "name": "quetzal_env"
  },
  "language_info": {
   "codemirror_mode": {
    "name": "ipython",
    "version": 3
   },
   "file_extension": ".py",
   "mimetype": "text/x-python",
   "name": "python",
   "nbconvert_exporter": "python",
   "pygments_lexer": "ipython3",
   "version": "3.8.6"
  }
 },
 "nbformat": 4,
 "nbformat_minor": 5
}
