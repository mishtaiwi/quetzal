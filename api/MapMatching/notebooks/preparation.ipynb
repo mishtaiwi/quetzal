{
 "cells": [
  {
   "cell_type": "code",
   "execution_count": 174,
   "id": "92935c59",
   "metadata": {},
   "outputs": [
    {
     "name": "stdout",
     "output_type": "stream",
     "text": [
      "{'params': {'exclusions': ['subway'], 'uuid': 'test'}, 'num_cores': 6}\n"
     ]
    }
   ],
   "source": [
    "import os\n",
    "import sys\n",
    "import json\n",
    "params = {'exclusions':['subway'],'uuid':'test'}\n",
    "default = { 'params': params, 'num_cores':6} # Default execution parameters\n",
    "manual, argv = (True, default) if 'ipykernel' in sys.argv[0] else (False, dict(default, **json.loads(sys.argv[1])))\n",
    "print(argv)\n"
   ]
  },
  {
   "cell_type": "code",
   "execution_count": 175,
   "id": "0a52822f",
   "metadata": {},
   "outputs": [],
   "source": [
    "on_lambda = bool(os.environ.get('AWS_EXECUTION_ENV'))\n",
    "q_path = '../' if on_lambda else '../../../'\n",
    "sys.path.insert(0, q_path)\n",
    "import geopandas as gpd\n",
    "import pandas as pd\n",
    "from shapely.geometry import LineString\n",
    "from quetzal.engine.add_network_mapmatching import duplicate_nodes\n",
    "from pydantic import BaseModel\n",
    "from typing import  Optional\n",
    "from  shapely.ops import transform\n",
    "bucket_name = os.environ.get('BUCKET_NAME')\n",
    "num_cores = argv.get('num_cores',1)"
   ]
  },
  {
   "cell_type": "code",
   "execution_count": 176,
   "id": "cfcb097b",
   "metadata": {},
   "outputs": [
    {
     "data": {
      "text/plain": [
       "False"
      ]
     },
     "execution_count": 176,
     "metadata": {},
     "output_type": "execute_result"
    }
   ],
   "source": [
    "exclusions = argv['params'].get('exclusions',[])\n",
    "uuid = argv['params'].get('uuid')\n",
    "on_lambda"
   ]
  },
  {
   "cell_type": "code",
   "execution_count": 177,
   "id": "3ae5bace",
   "metadata": {},
   "outputs": [],
   "source": [
    "basepath = f's3://{bucket_name}/{uuid}/' if on_lambda else '../test'"
   ]
  },
  {
   "cell_type": "code",
   "execution_count": 178,
   "id": "773f26b2",
   "metadata": {},
   "outputs": [],
   "source": [
    "links = gpd.read_file(os.path.join(basepath,'links.geojson'),engine='pyogrio')\n",
    "links.set_index('index',inplace=True)\n",
    "nodes = gpd.read_file(os.path.join(basepath,'nodes.geojson'),engine='pyogrio')\n",
    "nodes.set_index('index',inplace=True)"
   ]
  },
  {
   "cell_type": "code",
   "execution_count": 179,
   "id": "c998f4e5",
   "metadata": {},
   "outputs": [],
   "source": [
    "\n",
    "# if already mapmatched. remove road_links_list (will be redone here)\n",
    "if 'road_link_list' in  links.columns:\n",
    "    print('remove road_links_list')\n",
    "    links = links.drop(columns = ['road_link_list'])\n"
   ]
  },
  {
   "cell_type": "code",
   "execution_count": 180,
   "id": "8ae62c96",
   "metadata": {},
   "outputs": [],
   "source": [
    "links, nodes = duplicate_nodes(links,nodes)"
   ]
  },
  {
   "cell_type": "code",
   "execution_count": 181,
   "id": "e5fa2dea",
   "metadata": {},
   "outputs": [],
   "source": [
    "excluded_links = links[links['route_type'].isin(exclusions)]\n",
    "links = links[~links['route_type'].isin(exclusions)]"
   ]
  },
  {
   "cell_type": "code",
   "execution_count": null,
   "id": "1b53e3b5",
   "metadata": {},
   "outputs": [],
   "source": []
  },
  {
   "cell_type": "code",
   "execution_count": null,
   "id": "8eb2a94e",
   "metadata": {},
   "outputs": [],
   "source": []
  },
  {
   "cell_type": "markdown",
   "id": "6724c486",
   "metadata": {},
   "source": [
    "# save excluded nodes and links"
   ]
  },
  {
   "cell_type": "code",
   "execution_count": null,
   "id": "ece37d53",
   "metadata": {},
   "outputs": [],
   "source": []
  },
  {
   "cell_type": "markdown",
   "id": "abf70674",
   "metadata": {},
   "source": [
    "# split"
   ]
  },
  {
   "cell_type": "code",
   "execution_count": 182,
   "id": "d8918847",
   "metadata": {},
   "outputs": [],
   "source": [
    "trip_list = links['trip_id'].unique()\n",
    "num_trips = len(trip_list)"
   ]
  },
  {
   "cell_type": "code",
   "execution_count": 183,
   "id": "b5b053e3",
   "metadata": {},
   "outputs": [
    {
     "data": {
      "text/plain": [
       "69"
      ]
     },
     "execution_count": 183,
     "metadata": {},
     "output_type": "execute_result"
    }
   ],
   "source": [
    "tot_num_iteration = num_trips//num_cores\n",
    "tot_num_iteration"
   ]
  },
  {
   "cell_type": "code",
   "execution_count": null,
   "id": "6642e30f",
   "metadata": {},
   "outputs": [],
   "source": []
  },
  {
   "cell_type": "code",
   "execution_count": 184,
   "id": "5b777d87",
   "metadata": {},
   "outputs": [],
   "source": [
    "def get_num_machine(num_it,target_it=20):\n",
    "    num_machine = num_it//target_it\n",
    "    best_diff=100\n",
    "    best_val=12\n",
    "    for v in [12,8,4,1]:\n",
    "        diff = abs(num_machine-v)\n",
    "        if diff < best_diff:\n",
    "            best_diff = diff\n",
    "            best_val=v\n",
    "    return best_val"
   ]
  },
  {
   "cell_type": "code",
   "execution_count": 185,
   "id": "989a0d6a",
   "metadata": {},
   "outputs": [],
   "source": [
    "num_machine = get_num_machine(tot_num_iteration)"
   ]
  },
  {
   "cell_type": "code",
   "execution_count": 186,
   "id": "bc6d9fe9",
   "metadata": {},
   "outputs": [
    {
     "data": {
      "text/plain": [
       "4"
      ]
     },
     "execution_count": 186,
     "metadata": {},
     "output_type": "execute_result"
    }
   ],
   "source": [
    "num_machine"
   ]
  },
  {
   "cell_type": "code",
   "execution_count": 187,
   "id": "bf804e00",
   "metadata": {},
   "outputs": [
    {
     "data": {
      "text/plain": [
       "True"
      ]
     },
     "execution_count": 187,
     "metadata": {},
     "output_type": "execute_result"
    }
   ],
   "source": [
    "chunk_length =  round(len(trip_list) / num_machine)\n",
    "# Split the list into four sub-lists\n",
    "chunks = [trip_list[j:j+chunk_length] for j in range(0, len(trip_list), chunk_length)]\n",
    "sum([len(c) for c in chunks]) == len(trip_list)"
   ]
  },
  {
   "cell_type": "code",
   "execution_count": 189,
   "id": "ddd028f4",
   "metadata": {},
   "outputs": [
    {
     "name": "stdout",
     "output_type": "stream",
     "text": [
      "0 3374\n",
      "1 3907\n",
      "2 3122\n",
      "3 3087\n"
     ]
    }
   ],
   "source": [
    "for i,trips in enumerate(chunks):\n",
    "    tlinks = links[links['trip_id'].isin(trips)]\n",
    "    nodes_set = set(tlinks['a'].unique()).union(set(tlinks['b'].unique()))\n",
    "    tnodes = nodes[nodes.reset_index()['index'].isin(nodes_set).values]\n",
    "    tlinks.to_file(os.path.join(basepath,'parallel',f'links_{i}.geojson'),driver='GeoJSON',engine='pyogrio')\n",
    "    tnodes.to_file(os.path.join(basepath,'parallel',f'nodes_{i}.geojson'),driver='GeoJSON',engine='pyogrio')\n",
    "    print(i,len(tlinks))"
   ]
  },
  {
   "cell_type": "code",
   "execution_count": null,
   "id": "10874e06",
   "metadata": {},
   "outputs": [],
   "source": []
  },
  {
   "cell_type": "code",
   "execution_count": 190,
   "id": "70e7d6ac",
   "metadata": {},
   "outputs": [
    {
     "data": {
      "text/plain": [
       "8"
      ]
     },
     "execution_count": 190,
     "metadata": {},
     "output_type": "execute_result"
    }
   ],
   "source": [
    "best_val"
   ]
  },
  {
   "cell_type": "code",
   "execution_count": null,
   "id": "26de4146",
   "metadata": {},
   "outputs": [],
   "source": []
  },
  {
   "cell_type": "code",
   "execution_count": null,
   "id": "719e5692",
   "metadata": {},
   "outputs": [],
   "source": []
  },
  {
   "cell_type": "code",
   "execution_count": 14,
   "id": "74671315",
   "metadata": {},
   "outputs": [],
   "source": [
    "import matplotlib.pyplot as plt\n",
    "import numpy as np"
   ]
  },
  {
   "cell_type": "code",
   "execution_count": 20,
   "id": "aa86f8f9",
   "metadata": {},
   "outputs": [
    {
     "data": {
      "text/plain": [
       "[<matplotlib.lines.Line2D at 0x7ed1b6d14a00>]"
      ]
     },
     "execution_count": 20,
     "metadata": {},
     "output_type": "execute_result"
    },
    {
     "data": {
      "image/png": "[encoded data removed]",
      "text/plain": [
       "<Figure size 640x480 with 1 Axes>"
      ]
     },
     "metadata": {},
     "output_type": "display_data"
    }
   ],
   "source": [
    "x=[1,2,4,6]\n",
    "y=np.array([49,38,28,28])/49*100\n",
    "plt.plot(x,y)"
   ]
  },
  {
   "cell_type": "code",
   "execution_count": null,
   "id": "8de4c653",
   "metadata": {},
   "outputs": [],
   "source": []
  },
  {
   "cell_type": "code",
   "execution_count": null,
   "id": "e9339331",
   "metadata": {},
   "outputs": [],
   "source": []
  },
  {
   "cell_type": "code",
   "execution_count": null,
   "id": "2064bbb7",
   "metadata": {},
   "outputs": [],
   "source": []
  }
 ],
 "metadata": {
  "kernelspec": {
   "display_name": "quetzal_env",
   "language": "python",
   "name": "quetzal_env"
  },
  "language_info": {
   "codemirror_mode": {
    "name": "ipython",
    "version": 3
   },
   "file_extension": ".py",
   "mimetype": "text/x-python",
   "name": "python",
   "nbconvert_exporter": "python",
   "pygments_lexer": "ipython3",
   "version": "3.8.6"
  }
 },
 "nbformat": 4,
 "nbformat_minor": 5
}
